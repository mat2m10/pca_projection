{
 "cells": [
  {
   "cell_type": "code",
   "execution_count": 2,
   "metadata": {},
   "outputs": [],
   "source": [
    "import os\n",
    "import math\n",
    "import pandas as pd\n",
    "import numpy as np\n",
    "import umap\n",
    "\n",
    "# Configuration settings\n",
    "from chasm.config import CONFIG\n",
    "\n",
    "# PLINK preprocessing utilities\n",
    "from chasm.plink_preprocessing import (\n",
    "    concat_AFs, \n",
    "    divide_into_chunks, \n",
    "    make_ids,\n",
    "    make_AFs\n",
    ")\n",
    "\n",
    "from chasm.data_preprocessing import (\n",
    "    is_snp,\n",
    "    make_df,\n",
    "    calculate_AFs,\n",
    "    merge_AFs_ensembl_build,\n",
    "    divide_into_chunks,\n",
    "    align_dataframes,\n",
    ")\n",
    "from chasm.gwas import ols_regression, pca_of_n_snps, project_on_dimensions\n",
    "\n",
    "from chasm.visualization import make_population_plot\n",
    "from chasm.ld_blocks import segmenter\n",
    "from chasm.abyss import linear_abyss\n",
    "\n",
    "from chasm.fst import make_fst, make_global_fst\n",
    "from chasm.cluster import silhouette_score_clusters"
   ]
  },
  {
   "cell_type": "code",
   "execution_count": 3,
   "metadata": {},
   "outputs": [],
   "source": [
    "# Changing the GTM data into a pickle file having an id file and calculating the AFs for each SNP \n",
    "# with the CHROM:POS for every corresponding RSID\n",
    "\n",
    "# GTM data\n",
    "\"\"\"\n",
    "path_data_raw = f\"{CONFIG['PATH_data']}/00_raw/recoded_1000G.raw\"\n",
    "path_raw = f\"{CONFIG['PATH_data']}/01_raw/\"\n",
    "path_usefull = f\"{CONFIG['PATH_data']}/02_usefull/\"\n",
    "\n",
    "geno = make_df(path_data_raw, path_usefull, path_raw)\n",
    "\n",
    "afs = calculate_AFs(geno)\n",
    "\n",
    "path_ensembl = f\"/mnt/e/1000G_data/usefull/ensembl_build\"\n",
    "merge_AFs_ensembl_build(path_ensembl, path_usefull, afs)\n",
    "\"\"\"\n",
    "# Divide the AFs into chunks\n",
    "\"\"\"\n",
    "size_chunck = 20_000\n",
    "min_maf = 0.01\n",
    "\n",
    "path_raw = f\"{CONFIG['PATH_data']}/01_raw/geno.pkl\"\n",
    "path_afs = f\"{CONFIG['PATH_data']}/02_usefull/allele_frequencies.pkl\"\n",
    "path_output = f\"{CONFIG['PATH_data']}/03_macro_similar_AF/\"\n",
    "\n",
    "divide_into_chunks(path_raw, path_afs, path_output, size_chunck, min_maf)\n",
    "\"\"\""
   ]
  },
  {
   "cell_type": "markdown",
   "metadata": {},
   "source": [
    "# Choose SNPs to project on n dimensions"
   ]
  },
  {
   "cell_type": "code",
   "execution_count": null,
   "metadata": {},
   "outputs": [],
   "source": [
    "# run PCA\n",
    "# run GWAS and create dimensions\n",
    "# save the dimensions\n",
    "# cluster the dimensions"
   ]
  },
  {
   "cell_type": "code",
   "execution_count": null,
   "metadata": {},
   "outputs": [],
   "source": [
    "path_input = f\"{CONFIG['PATH_data']}/03_macro_similar_AF/\"\n",
    "path_output = f\"{CONFIG['PATH_data']}/04_projected/pop_0\"\n",
    "nr_of_projected_dimensions = 3\n",
    "project_on_dimensions(path_input, path_output, nr_of_projected_dimensions)"
   ]
  },
  {
   "cell_type": "markdown",
   "metadata": {},
   "source": [
    "# Observe raw dimensions"
   ]
  },
  {
   "cell_type": "code",
   "execution_count": null,
   "metadata": {},
   "outputs": [],
   "source": [
    "\"\"\"\n",
    "labels = silhouette_score_clusters(merged_df, ['dim_1', 'dim_2', 'dim_3'], plot=False)\n",
    "merged_df['clusters'] = labels\n",
    "make_population_plot(merged_df, 'dim_1', 'dim_2', 'clusters', 'test', palette = 'rocket')\n",
    "merged_df.to_pickle(f\"{CONFIG['PATH_data']}/04_projected/samples_with_clusters.pkl\")\n",
    "\"\"\""
   ]
  },
  {
   "cell_type": "code",
   "execution_count": null,
   "metadata": {},
   "outputs": [
    {
     "name": "stdout",
     "output_type": "stream",
     "text": [
      "Running iteration 0\n",
      "Running iteration 1\n",
      "Running iteration 2\n"
     ]
    }
   ],
   "source": [
    "iterations = 3\n",
    "for iter in range(iterations):\n",
    "    print(f\"Running iteration {iter}\")\n",
    "    if iter == 0:\n",
    "        path_input = f\"{CONFIG['PATH_data']}/03_macro_similar_AF/\"\n",
    "        path_output = f\"{CONFIG['PATH_data']}/04_projected/pop_0\"\n",
    "        "
   ]
  },
  {
   "cell_type": "code",
   "execution_count": null,
   "metadata": {},
   "outputs": [],
   "source": []
  },
  {
   "cell_type": "code",
   "execution_count": null,
   "metadata": {},
   "outputs": [],
   "source": []
  },
  {
   "cell_type": "code",
   "execution_count": null,
   "metadata": {},
   "outputs": [],
   "source": []
  },
  {
   "cell_type": "code",
   "execution_count": 5,
   "metadata": {},
   "outputs": [
    {
     "data": {
      "text/html": [
       "<div>\n",
       "<style scoped>\n",
       "    .dataframe tbody tr th:only-of-type {\n",
       "        vertical-align: middle;\n",
       "    }\n",
       "\n",
       "    .dataframe tbody tr th {\n",
       "        vertical-align: top;\n",
       "    }\n",
       "\n",
       "    .dataframe thead th {\n",
       "        text-align: right;\n",
       "    }\n",
       "</style>\n",
       "<table border=\"1\" class=\"dataframe\">\n",
       "  <thead>\n",
       "    <tr style=\"text-align: right;\">\n",
       "      <th></th>\n",
       "      <th>pval</th>\n",
       "      <th>betas</th>\n",
       "      <th>snp_rs</th>\n",
       "      <th>-logp</th>\n",
       "      <th>dim</th>\n",
       "    </tr>\n",
       "  </thead>\n",
       "  <tbody>\n",
       "    <tr>\n",
       "      <th>139</th>\n",
       "      <td>3.394259e-82</td>\n",
       "      <td>-10.578245</td>\n",
       "      <td>rs10803434_A</td>\n",
       "      <td>81.469255</td>\n",
       "      <td>1</td>\n",
       "    </tr>\n",
       "    <tr>\n",
       "      <th>689</th>\n",
       "      <td>1.219847e-79</td>\n",
       "      <td>-10.456765</td>\n",
       "      <td>rs11802371_G</td>\n",
       "      <td>78.913694</td>\n",
       "      <td>1</td>\n",
       "    </tr>\n",
       "    <tr>\n",
       "      <th>18</th>\n",
       "      <td>8.948735e-67</td>\n",
       "      <td>9.651554</td>\n",
       "      <td>rs12743883_G</td>\n",
       "      <td>66.048238</td>\n",
       "      <td>1</td>\n",
       "    </tr>\n",
       "    <tr>\n",
       "      <th>321</th>\n",
       "      <td>8.137835e-66</td>\n",
       "      <td>-9.551678</td>\n",
       "      <td>rs4424509_G</td>\n",
       "      <td>65.089491</td>\n",
       "      <td>1</td>\n",
       "    </tr>\n",
       "    <tr>\n",
       "      <th>0</th>\n",
       "      <td>5.784439e-65</td>\n",
       "      <td>9.590214</td>\n",
       "      <td>rs3928804_T</td>\n",
       "      <td>64.237739</td>\n",
       "      <td>1</td>\n",
       "    </tr>\n",
       "    <tr>\n",
       "      <th>...</th>\n",
       "      <td>...</td>\n",
       "      <td>...</td>\n",
       "      <td>...</td>\n",
       "      <td>...</td>\n",
       "      <td>...</td>\n",
       "    </tr>\n",
       "    <tr>\n",
       "      <th>106</th>\n",
       "      <td>8.839202e-01</td>\n",
       "      <td>0.048281</td>\n",
       "      <td>rs1009059_C</td>\n",
       "      <td>0.053587</td>\n",
       "      <td>3</td>\n",
       "    </tr>\n",
       "    <tr>\n",
       "      <th>7</th>\n",
       "      <td>9.327122e-01</td>\n",
       "      <td>-0.023998</td>\n",
       "      <td>rs1894252_A</td>\n",
       "      <td>0.030252</td>\n",
       "      <td>3</td>\n",
       "    </tr>\n",
       "    <tr>\n",
       "      <th>102</th>\n",
       "      <td>9.587937e-01</td>\n",
       "      <td>0.016116</td>\n",
       "      <td>rs1974458_G</td>\n",
       "      <td>0.018275</td>\n",
       "      <td>3</td>\n",
       "    </tr>\n",
       "    <tr>\n",
       "      <th>137</th>\n",
       "      <td>9.846576e-01</td>\n",
       "      <td>-0.009442</td>\n",
       "      <td>rs2080729_T</td>\n",
       "      <td>0.006715</td>\n",
       "      <td>3</td>\n",
       "    </tr>\n",
       "    <tr>\n",
       "      <th>76</th>\n",
       "      <td>9.938121e-01</td>\n",
       "      <td>0.002224</td>\n",
       "      <td>rs135972_G</td>\n",
       "      <td>0.002696</td>\n",
       "      <td>3</td>\n",
       "    </tr>\n",
       "  </tbody>\n",
       "</table>\n",
       "<p>38944 rows × 5 columns</p>\n",
       "</div>"
      ],
      "text/plain": [
       "             pval      betas        snp_rs      -logp  dim\n",
       "139  3.394259e-82 -10.578245  rs10803434_A  81.469255    1\n",
       "689  1.219847e-79 -10.456765  rs11802371_G  78.913694    1\n",
       "18   8.948735e-67   9.651554  rs12743883_G  66.048238    1\n",
       "321  8.137835e-66  -9.551678   rs4424509_G  65.089491    1\n",
       "0    5.784439e-65   9.590214   rs3928804_T  64.237739    1\n",
       "..            ...        ...           ...        ...  ...\n",
       "106  8.839202e-01   0.048281   rs1009059_C   0.053587    3\n",
       "7    9.327122e-01  -0.023998   rs1894252_A   0.030252    3\n",
       "102  9.587937e-01   0.016116   rs1974458_G   0.018275    3\n",
       "137  9.846576e-01  -0.009442   rs2080729_T   0.006715    3\n",
       "76   9.938121e-01   0.002224    rs135972_G   0.002696    3\n",
       "\n",
       "[38944 rows x 5 columns]"
      ]
     },
     "execution_count": 5,
     "metadata": {},
     "output_type": "execute_result"
    }
   ],
   "source": [
    "path_input = f\"{CONFIG['PATH_data']}/04_projected/pop_0/snp_ids.pkl\"\n",
    "pd.read_pickle(path_input)"
   ]
  },
  {
   "cell_type": "code",
   "execution_count": null,
   "metadata": {},
   "outputs": [],
   "source": [
    "path_input = f\"{CONFIG['PATH_data']}/04_projected/pop_0\"\n",
    "path_afs = f\"{CONFIG['PATH_data']}/02_usefull/allele_frequencies.pkl\"\n",
    "path_ids = f\"{CONFIG['PATH_data']}/02_usefull/ids.pkl\"\n",
    "path_panel = f\"{CONFIG['PATH_data']}/00_raw/all.panel\"\n",
    "ids = pd.read_pickle(path_ids)\n",
    "labels = pd.read_pickle(path_panel)\n",
    "merged_df = ids.merge(labels, left_on=\"IID\", right_on=\"Sample name\")\n",
    "dims = [f for f in os.listdir(path_input) if f.startswith(\"dim\")]\n",
    "for dim in dims:\n",
    "    path_dim = f\"{path_input}/{dim}\"\n",
    "    PCs = [f for f in os.listdir(path_dim) if f.startswith(\"global\")][0]\n",
    "    path_PC = f\"{path_dim}/{PCs}\"\n",
    "    PC_dim = pd.read_pickle(path_PC)\n",
    "    merged_df[dim] = PC_dim['PC1']\n",
    "    \n",
    "make_population_plot(merged_df, 'dim_1', 'dim_2', 'Superpopulation name', 'test', palette = 'rocket')"
   ]
  },
  {
   "cell_type": "code",
   "execution_count": null,
   "metadata": {},
   "outputs": [],
   "source": []
  },
  {
   "cell_type": "code",
   "execution_count": 8,
   "metadata": {},
   "outputs": [],
   "source": [
    "folders = os.listdir(f\"{CONFIG['PATH_data']}\")\n",
    "os.makedirs(f\"{CONFIG['PATH_data']}/09_snps_id/\", exist_ok=True)\n",
    "projected_folders = [folder for folder in folders if \"projected\" in folder]\n",
    "i = 0\n",
    "for folder in projected_folders:\n",
    "    dfs = []\n",
    "    path_projected = f\"{CONFIG['PATH_data']}/{folder}\"\n",
    "    pops = [f for f in os.listdir(path_projected) if f.startswith('pop')]\n",
    "    for pop in pops:\n",
    "        path_pop = f\"{path_projected}/{pop}\"\n",
    "        snp_id = [f for f in os.listdir(path_pop) if f.startswith('snp')][0]\n",
    "        path_snp = f\"{path_pop}/{snp_id}\"\n",
    "        temp = pd.read_pickle(path_snp)\n",
    "        temp['pop'] = pop\n",
    "        temp['folder'] = folder\n",
    "        dfs.append(temp)\n",
    "        \n",
    "    dfs = pd.concat(dfs, axis=0)\n",
    "    i = i + 1\n",
    "    dfs.to_pickle(f\"{CONFIG['PATH_data']}/09_snps_id/projection_{i}_ids.pkl\")"
   ]
  },
  {
   "cell_type": "code",
   "execution_count": 10,
   "metadata": {},
   "outputs": [],
   "source": [
    "path_projection_id = f\"{CONFIG['PATH_data']}/09_snps_id/\"\n",
    "for projection_folder in [f for f in os.listdir(path_projection_id) if f.startswith('projection')]:\n",
    "    projection = pd.read_pickle(f\"{path_projection_id}/{projection_folder}\")"
   ]
  },
  {
   "cell_type": "code",
   "execution_count": null,
   "metadata": {},
   "outputs": [],
   "source": []
  },
  {
   "cell_type": "code",
   "execution_count": null,
   "metadata": {},
   "outputs": [],
   "source": []
  },
  {
   "cell_type": "code",
   "execution_count": null,
   "metadata": {},
   "outputs": [],
   "source": []
  },
  {
   "cell_type": "code",
   "execution_count": null,
   "metadata": {},
   "outputs": [],
   "source": []
  },
  {
   "cell_type": "code",
   "execution_count": null,
   "metadata": {},
   "outputs": [],
   "source": []
  },
  {
   "cell_type": "code",
   "execution_count": null,
   "metadata": {},
   "outputs": [
    {
     "data": {
      "text/plain": [
       "'\\npath_input  = f\"{CONFIG[\\'PATH_data\\']}/03_macro_similar_AF\"\\nfor cluster in list(merged_df[\\'clusters\\'].unique()):\\n    cluster_df = merged_df[merged_df[\\'clusters\\'] == cluster]\\n    for chrom in [f for f in os.listdir(path_input) if f.startswith(\\'chrom\\')]:\\n        path_chrom = f\"{path_input}/{chrom}\"\\n        for chunk in [f for f in os.listdir(path_chrom) if f.startswith(\\'chunk\\')]:\\n            path_chunk = f\"{path_chrom}/{chunk}\"\\n            chunk_df = pd.read_pickle(path_chunk)\\n            chunk_df[\\'IID\\'] = ids[\\'IID\\']\\n            merged = pd.merge(cluster_df[[\\'IID\\']], chunk_df, on=\\'IID\\')\\n            merged.drop(\\'IID\\', axis=1, inplace=True)\\n            path_output = f\"{CONFIG[\\'PATH_data\\']}/05_macro_similar_per_pop/pop_{cluster}/{chrom}\"\\n            os.makedirs(path_output, exist_ok=True)\\n            merged.to_pickle(f\"{path_output}/{chunk}\")\\n'"
      ]
     },
     "execution_count": 10,
     "metadata": {},
     "output_type": "execute_result"
    }
   ],
   "source": [
    "# Divide into chunks\n",
    "\"\"\"\n",
    "path_input  = f\"{CONFIG['PATH_data']}/03_macro_similar_AF\"\n",
    "for cluster in list(merged_df['clusters'].unique()):\n",
    "    cluster_df = merged_df[merged_df['clusters'] == cluster]\n",
    "    for chrom in [f for f in os.listdir(path_input) if f.startswith('chrom')]:\n",
    "        path_chrom = f\"{path_input}/{chrom}\"\n",
    "        for chunk in [f for f in os.listdir(path_chrom) if f.startswith('chunk')]:\n",
    "            path_chunk = f\"{path_chrom}/{chunk}\"\n",
    "            chunk_df = pd.read_pickle(path_chunk)\n",
    "            chunk_df['IID'] = ids['IID']\n",
    "            merged = pd.merge(cluster_df[['IID']], chunk_df, on='IID')\n",
    "            merged.drop('IID', axis=1, inplace=True)\n",
    "            path_output = f\"{CONFIG['PATH_data']}/05_macro_similar_per_pop/pop_{cluster}/{chrom}\"\n",
    "            os.makedirs(path_output, exist_ok=True)\n",
    "            merged.to_pickle(f\"{path_output}/{chunk}\")\n",
    "\"\"\""
   ]
  },
  {
   "cell_type": "code",
   "execution_count": 9,
   "metadata": {},
   "outputs": [],
   "source": [
    "# iteration 1"
   ]
  },
  {
   "cell_type": "code",
   "execution_count": 11,
   "metadata": {},
   "outputs": [
    {
     "data": {
      "text/plain": [
       "'\\npath_input = f\"{CONFIG[\\'PATH_data\\']}/05_macro_similar_per_pop/\"\\npath_output = f\"{CONFIG[\\'PATH_data\\']}/06_projected_per_pop/\"\\nfor pop in [f for f in os.listdir(path_input) if f.startswith(\\'pop\\')]:\\n    path_input_pop = f\"{path_input}/{pop}\"\\n    path_output_pop = f\"{path_output}/{pop}\"\\n    nr_of_projected_dimensions = 3\\n    project_on_dimensions(path_input_pop, path_output_pop, nr_of_projected_dimensions)\\n'"
      ]
     },
     "execution_count": 11,
     "metadata": {},
     "output_type": "execute_result"
    }
   ],
   "source": [
    "\n",
    "\"\"\"\n",
    "path_input = f\"{CONFIG['PATH_data']}/05_macro_similar_per_pop/\"\n",
    "path_output = f\"{CONFIG['PATH_data']}/06_projected_per_pop/\"\n",
    "for pop in [f for f in os.listdir(path_input) if f.startswith('pop')]:\n",
    "    path_input_pop = f\"{path_input}/{pop}\"\n",
    "    path_output_pop = f\"{path_output}/{pop}\"\n",
    "    nr_of_projected_dimensions = 3\n",
    "    project_on_dimensions(path_input_pop, path_output_pop, nr_of_projected_dimensions)\n",
    "\"\"\""
   ]
  },
  {
   "cell_type": "code",
   "execution_count": null,
   "metadata": {},
   "outputs": [
    {
     "data": {
      "text/plain": [
       "'\\nmerged_df = pd.read_pickle(f\"{CONFIG[\\'PATH_data\\']}/04_projected/samples_with_clusters.pkl\")\\npath_input = f\"{CONFIG[\\'PATH_data\\']}/06_projected_per_pop/\"\\npops = [f for f in os.listdir(path_input) if f.startswith(\\'pop\\')]\\nfor pop in pops:\\n    pop = int(pop.split(\\'_\\')[1])\\n    temp_samples = merged_df[merged_df[\\'clusters\\'] == pop].copy()\\n    path_pop = f\"{path_input}/pop_{pop}\"\\n    dims = [f for f in os.listdir(path_pop) if f.startswith(\"dim\")]\\n    for dim in dims:\\n        path_dim = f\"{path_pop}/{dim}\"\\n        PCs = [f for f in os.listdir(path_dim) if f.startswith(\"global\")][0]\\n        path_PC = f\"{path_dim}/{PCs}\"\\n        PC_dim = pd.read_pickle(path_PC)\\n        temp_samples[dim] = list(PC_dim[\\'PC1\\'])\\n    \\n    make_population_plot(temp_samples, \\'dim_1\\', \\'dim_2\\', \\'Population name\\', \\'test\\', palette = \\'rocket\\')\\n    \\n    # clustering\\n    labels = silhouette_score_clusters(temp_samples, [\\'dim_1\\', \\'dim_2\\', \\'dim_3\\'], plot=False)\\n    temp_samples[\\'clusters\\'] = labels\\n    temp_samples.to_pickle(f\"{CONFIG[\\'PATH_data\\']}/06_projected_per_pop/pop_{pop}/samples_with_clusters.pkl\")\\n    make_population_plot(temp_samples, \\'dim_1\\', \\'dim_2\\', \\'clusters\\', \\'test\\', palette = \\'rocket\\')\\n'"
      ]
     },
     "execution_count": 11,
     "metadata": {},
     "output_type": "execute_result"
    }
   ],
   "source": [
    "\"\"\"\n",
    "merged_df = pd.read_pickle(f\"{CONFIG['PATH_data']}/04_projected/pop_0/samples_with_clusters.pkl\")\n",
    "path_input = f\"{CONFIG['PATH_data']}/06_projected_per_pop/\"\n",
    "pops = [f for f in os.listdir(path_input) if f.startswith('pop')]\n",
    "for pop in pops:\n",
    "    pop = int(pop.split('_')[1])\n",
    "    temp_samples = merged_df[merged_df['clusters'] == pop].copy()\n",
    "    path_pop = f\"{path_input}/pop_{pop}\"\n",
    "    dims = [f for f in os.listdir(path_pop) if f.startswith(\"dim\")]\n",
    "    for dim in dims:\n",
    "        path_dim = f\"{path_pop}/{dim}\"\n",
    "        PCs = [f for f in os.listdir(path_dim) if f.startswith(\"global\")][0]\n",
    "        path_PC = f\"{path_dim}/{PCs}\"\n",
    "        PC_dim = pd.read_pickle(path_PC)\n",
    "        temp_samples[dim] = list(PC_dim['PC1'])\n",
    "    \n",
    "    make_population_plot(temp_samples, 'dim_1', 'dim_2', 'Population name', 'test', palette = 'rocket')\n",
    "    \n",
    "    # clustering\n",
    "    labels = silhouette_score_clusters(temp_samples, ['dim_1', 'dim_2', 'dim_3'], plot=False)\n",
    "    temp_samples['clusters'] = labels\n",
    "    temp_samples.to_pickle(f\"{CONFIG['PATH_data']}/06_projected_per_pop/pop_{pop}/samples_with_clusters.pkl\")\n",
    "    make_population_plot(temp_samples, 'dim_1', 'dim_2', 'clusters', 'test', palette = 'rocket')\n",
    "\"\"\""
   ]
  },
  {
   "cell_type": "code",
   "execution_count": 12,
   "metadata": {},
   "outputs": [
    {
     "data": {
      "text/plain": [
       "'\\npath_input_macro  = f\"{CONFIG[\\'PATH_data\\']}/03_macro_similar_AF\"\\npath_input = f\"{CONFIG[\\'PATH_data\\']}/06_projected_per_pop/\"\\npops = [f for f in os.listdir(path_input) if f.startswith(\\'pop\\')]\\nfor pop in pops:\\n    pop_nr = int(pop.split(\\'_\\')[1])\\n    path_pop = f\"{path_input}/{pop}\"\\n    samples = pd.read_pickle(f\"{path_pop}/samples_with_clusters.pkl\")\\n    for cluster in list(samples[\\'clusters\\'].unique()):\\n        cluster_df = samples[samples[\\'clusters\\'] == cluster]\\n        \\n        for chrom in [f for f in os.listdir(path_input_macro) if f.startswith(\\'chrom\\')]:\\n            path_chrom = f\"{path_input_macro}/{chrom}\"\\n            for chunk in [f for f in os.listdir(path_chrom) if f.startswith(\\'chunk\\')]:\\n                path_chunk = f\"{path_chrom}/{chunk}\"\\n                chunk_df = pd.read_pickle(path_chunk)\\n                chunk_df[\\'IID\\'] = ids[\\'IID\\']\\n                merged = pd.merge(cluster_df[[\\'IID\\']], chunk_df, on=\\'IID\\')\\n                merged.drop(\\'IID\\', axis=1, inplace=True)\\n                path_output = f\"{CONFIG[\\'PATH_data\\']}/07_macro_similar_per_sub_pop/pop_{pop_nr}_subpop_{cluster}/{chrom}\"\\n                os.makedirs(path_output, exist_ok=True)\\n                merged.to_pickle(f\"{path_output}/{chunk}\")\\n                \\n'"
      ]
     },
     "execution_count": 12,
     "metadata": {},
     "output_type": "execute_result"
    }
   ],
   "source": [
    "\"\"\"\n",
    "path_input_macro  = f\"{CONFIG['PATH_data']}/03_macro_similar_AF\"\n",
    "path_input = f\"{CONFIG['PATH_data']}/06_projected_per_pop/\"\n",
    "pops = [f for f in os.listdir(path_input) if f.startswith('pop')]\n",
    "for pop in pops:\n",
    "    pop_nr = int(pop.split('_')[1])\n",
    "    path_pop = f\"{path_input}/{pop}\"\n",
    "    samples = pd.read_pickle(f\"{path_pop}/samples_with_clusters.pkl\")\n",
    "    for cluster in list(samples['clusters'].unique()):\n",
    "        cluster_df = samples[samples['clusters'] == cluster]\n",
    "        \n",
    "        for chrom in [f for f in os.listdir(path_input_macro) if f.startswith('chrom')]:\n",
    "            path_chrom = f\"{path_input_macro}/{chrom}\"\n",
    "            for chunk in [f for f in os.listdir(path_chrom) if f.startswith('chunk')]:\n",
    "                path_chunk = f\"{path_chrom}/{chunk}\"\n",
    "                chunk_df = pd.read_pickle(path_chunk)\n",
    "                chunk_df['IID'] = ids['IID']\n",
    "                merged = pd.merge(cluster_df[['IID']], chunk_df, on='IID')\n",
    "                merged.drop('IID', axis=1, inplace=True)\n",
    "                path_output = f\"{CONFIG['PATH_data']}/07_macro_similar_per_sub_pop/pop_{pop_nr}_subpop_{cluster}/{chrom}\"\n",
    "                os.makedirs(path_output, exist_ok=True)\n",
    "                merged.to_pickle(f\"{path_output}/{chunk}\")\n",
    "                \n",
    "\"\"\""
   ]
  },
  {
   "cell_type": "code",
   "execution_count": 13,
   "metadata": {},
   "outputs": [
    {
     "data": {
      "text/plain": [
       "'\\npath_input = f\"{CONFIG[\\'PATH_data\\']}/07_macro_similar_per_sub_pop/\"\\npath_output = f\"{CONFIG[\\'PATH_data\\']}/08_projected_per_sub_pop/\"\\nfor pop in [f for f in os.listdir(path_input) if f.startswith(\\'pop\\')]:\\n    path_input_pop = f\"{path_input}/{pop}\"\\n    path_output_pop = f\"{path_output}/{pop}\"\\n    nr_of_projected_dimensions = 3\\n    project_on_dimensions(path_input_pop, path_output_pop, nr_of_projected_dimensions)\\n    \\n'"
      ]
     },
     "execution_count": 13,
     "metadata": {},
     "output_type": "execute_result"
    }
   ],
   "source": [
    "\"\"\"\n",
    "path_input = f\"{CONFIG['PATH_data']}/07_macro_similar_per_sub_pop/\"\n",
    "path_output = f\"{CONFIG['PATH_data']}/08_projected_per_sub_pop/\"\n",
    "for pop in [f for f in os.listdir(path_input) if f.startswith('pop')]:\n",
    "    path_input_pop = f\"{path_input}/{pop}\"\n",
    "    path_output_pop = f\"{path_output}/{pop}\"\n",
    "    nr_of_projected_dimensions = 3\n",
    "    project_on_dimensions(path_input_pop, path_output_pop, nr_of_projected_dimensions)\n",
    "    \n",
    "\"\"\""
   ]
  },
  {
   "cell_type": "code",
   "execution_count": 7,
   "metadata": {},
   "outputs": [
    {
     "data": {
      "text/plain": [
       "'\\npath_propjected = f\"{CONFIG[\\'PATH_data\\']}/06_projected_per_pop/\"\\npath_input = f\"{CONFIG[\\'PATH_data\\']}/08_projected_per_sub_pop/\"\\npops = [f for f in os.listdir(path_input) if f.startswith(\\'pop\\')]\\nfor pop in pops:\\n\\n    sub_pop = int(pop.split(\\'_\\')[3])\\n    pop = int(pop.split(\\'_\\')[1])\\n    \\n    path_propjected_pop = f\"{path_propjected}/pop_{pop}\"\\n    merged_df = pd.read_pickle(f\"{path_propjected_pop}/samples_with_clusters.pkl\")\\n    temp_samples = merged_df[merged_df[\\'clusters\\'] == sub_pop].copy()\\n    path_pop = f\"{path_input}/pop_{pop}_subpop_{sub_pop}\"\\n    dims = [f for f in os.listdir(path_pop) if f.startswith(\"dim\")]\\n    for dim in dims:\\n        path_dim = f\"{path_pop}/{dim}\"\\n        PCs = [f for f in os.listdir(path_dim) if f.startswith(\"global\")][0]\\n        path_PC = f\"{path_dim}/{PCs}\"\\n        PC_dim = pd.read_pickle(path_PC)\\n        temp_samples[dim] = list(PC_dim[\\'PC1\\'])\\n    \\n    make_population_plot(temp_samples, \\'dim_3\\', \\'dim_2\\', \\'Population name\\', \\'test\\', palette = \\'rocket\\')\\n'"
      ]
     },
     "execution_count": 7,
     "metadata": {},
     "output_type": "execute_result"
    }
   ],
   "source": [
    "\"\"\"\n",
    "path_propjected = f\"{CONFIG['PATH_data']}/06_projected_per_pop/\"\n",
    "path_input = f\"{CONFIG['PATH_data']}/08_projected_per_sub_pop/\"\n",
    "pops = [f for f in os.listdir(path_input) if f.startswith('pop')]\n",
    "for pop in pops:\n",
    "\n",
    "    sub_pop = int(pop.split('_')[3])\n",
    "    pop = int(pop.split('_')[1])\n",
    "    \n",
    "    path_propjected_pop = f\"{path_propjected}/pop_{pop}\"\n",
    "    merged_df = pd.read_pickle(f\"{path_propjected_pop}/samples_with_clusters.pkl\")\n",
    "    temp_samples = merged_df[merged_df['clusters'] == sub_pop].copy()\n",
    "    path_pop = f\"{path_input}/pop_{pop}_subpop_{sub_pop}\"\n",
    "    dims = [f for f in os.listdir(path_pop) if f.startswith(\"dim\")]\n",
    "    for dim in dims:\n",
    "        path_dim = f\"{path_pop}/{dim}\"\n",
    "        PCs = [f for f in os.listdir(path_dim) if f.startswith(\"global\")][0]\n",
    "        path_PC = f\"{path_dim}/{PCs}\"\n",
    "        PC_dim = pd.read_pickle(path_PC)\n",
    "        temp_samples[dim] = list(PC_dim['PC1'])\n",
    "    \n",
    "    make_population_plot(temp_samples, 'dim_3', 'dim_2', 'Population name', 'test', palette = 'rocket')\n",
    "\"\"\""
   ]
  },
  {
   "cell_type": "markdown",
   "metadata": {},
   "source": [
    "# Find perfect MAF prediction"
   ]
  },
  {
   "cell_type": "code",
   "execution_count": 49,
   "metadata": {},
   "outputs": [
    {
     "data": {
      "text/plain": [
       "'\\nfolders = os.listdir(f\"{CONFIG[\\'PATH_data\\']}\")\\nos.makedirs(f\"{CONFIG[\\'PATH_data\\']}/09_snps_id/\", exist_ok=True)\\nprojected_folders = [folder for folder in folders if \"projected\" in folder]\\ni = 0\\nfor folder in projected_folders:\\n    dfs = []\\n    path_projected = f\"{CONFIG[\\'PATH_data\\']}/{folder}\"\\n    pops = [f for f in os.listdir(path_projected) if f.startswith(\\'pop\\')]\\n    for pop in pops:\\n        path_pop = f\"{path_projected}/{pop}\"\\n        snp_id = [f for f in os.listdir(path_pop) if f.startswith(\\'snp\\')][0]\\n        path_snp = f\"{path_pop}/{snp_id}\"\\n        temp = pd.read_pickle(path_snp)\\n        temp[\\'pop\\'] = pop\\n        temp[\\'folder\\'] = folder\\n        dfs.append(temp)\\n        \\n    dfs = pd.concat(dfs, axis=0)\\n    i = i + 1\\n    dfs.to_pickle(f\"{CONFIG[\\'PATH_data\\']}/09_snps_id/projection_{i}_ids.pkl\")\\n'"
      ]
     },
     "execution_count": 49,
     "metadata": {},
     "output_type": "execute_result"
    }
   ],
   "source": [
    "\"\"\"\n",
    "folders = os.listdir(f\"{CONFIG['PATH_data']}\")\n",
    "os.makedirs(f\"{CONFIG['PATH_data']}/09_snps_id/\", exist_ok=True)\n",
    "projected_folders = [folder for folder in folders if \"projected\" in folder]\n",
    "i = 0\n",
    "for folder in projected_folders:\n",
    "    dfs = []\n",
    "    path_projected = f\"{CONFIG['PATH_data']}/{folder}\"\n",
    "    pops = [f for f in os.listdir(path_projected) if f.startswith('pop')]\n",
    "    for pop in pops:\n",
    "        path_pop = f\"{path_projected}/{pop}\"\n",
    "        snp_id = [f for f in os.listdir(path_pop) if f.startswith('snp')][0]\n",
    "        path_snp = f\"{path_pop}/{snp_id}\"\n",
    "        temp = pd.read_pickle(path_snp)\n",
    "        temp['pop'] = pop\n",
    "        temp['folder'] = folder\n",
    "        dfs.append(temp)\n",
    "        \n",
    "    dfs = pd.concat(dfs, axis=0)\n",
    "    i = i + 1\n",
    "    dfs.to_pickle(f\"{CONFIG['PATH_data']}/09_snps_id/projection_{i}_ids.pkl\")\n",
    "\"\"\""
   ]
  },
  {
   "cell_type": "code",
   "execution_count": null,
   "metadata": {},
   "outputs": [
    {
     "name": "stdout",
     "output_type": "stream",
     "text": [
      "yey rs3928804_T\n",
      "rs3928804_T\n",
      "yey rs6695244_A\n",
      "rs6695244_A\n",
      "yey rs12745158_G\n",
      "rs12745158_G\n"
     ]
    }
   ],
   "source": [
    "path_input = f\"{CONFIG['PATH_data']}/03_macro_similar_AF/\"\n",
    "projection_ids = os.listdir(f\"{CONFIG['PATH_data']}/09_snps_id/\")\n",
    "\n",
    "for chrom in [f for f in  os.listdir(path_input) if f.startswith('chrom')][0:1]:\n",
    "    path_chrom = f\"{path_input}/{chrom}\"\n",
    "    for chunk in [f for f in os.listdir(path_chrom) if f.startswith('chunk')][0:1]:\n",
    "        path_chunk = f\"{path_chrom}/{chunk}\"\n",
    "        chunk_df = pd.read_pickle(path_chunk)\n",
    "        for snp in list(chunk_df.columns)[0:3]:     \n",
    "            for projection_id in projection_ids:\n",
    "                path_projection = f\"{CONFIG['PATH_data']}/09_snps_id/{projection_id}\"\n",
    "                projection = pd.read_pickle(path_projection)\n",
    "                snps_folders = projection[projection['snp_rs'] == snp].sort_values('pop')\n",
    "                \n",
    "                \n",
    "                \n"
   ]
  },
  {
   "cell_type": "code",
   "execution_count": null,
   "metadata": {},
   "outputs": [],
   "source": []
  },
  {
   "cell_type": "code",
   "execution_count": 51,
   "metadata": {},
   "outputs": [
    {
     "data": {
      "text/html": [
       "<div>\n",
       "<style scoped>\n",
       "    .dataframe tbody tr th:only-of-type {\n",
       "        vertical-align: middle;\n",
       "    }\n",
       "\n",
       "    .dataframe tbody tr th {\n",
       "        vertical-align: top;\n",
       "    }\n",
       "\n",
       "    .dataframe thead th {\n",
       "        text-align: right;\n",
       "    }\n",
       "</style>\n",
       "<table border=\"1\" class=\"dataframe\">\n",
       "  <thead>\n",
       "    <tr style=\"text-align: right;\">\n",
       "      <th></th>\n",
       "      <th>pval</th>\n",
       "      <th>betas</th>\n",
       "      <th>snp_rs</th>\n",
       "      <th>-logp</th>\n",
       "      <th>dim</th>\n",
       "      <th>pop</th>\n",
       "      <th>folder</th>\n",
       "    </tr>\n",
       "  </thead>\n",
       "  <tbody>\n",
       "    <tr>\n",
       "      <th>2</th>\n",
       "      <td>0.403572</td>\n",
       "      <td>-0.429250</td>\n",
       "      <td>rs12745158_G</td>\n",
       "      <td>0.394079</td>\n",
       "      <td>2</td>\n",
       "      <td>pop_0_subpop_0</td>\n",
       "      <td>08_projected_per_sub_pop</td>\n",
       "    </tr>\n",
       "    <tr>\n",
       "      <th>2</th>\n",
       "      <td>0.184803</td>\n",
       "      <td>2.707016</td>\n",
       "      <td>rs12745158_G</td>\n",
       "      <td>0.733292</td>\n",
       "      <td>1</td>\n",
       "      <td>pop_0_subpop_1</td>\n",
       "      <td>08_projected_per_sub_pop</td>\n",
       "    </tr>\n",
       "    <tr>\n",
       "      <th>2</th>\n",
       "      <td>0.271207</td>\n",
       "      <td>1.207662</td>\n",
       "      <td>rs12745158_G</td>\n",
       "      <td>0.566698</td>\n",
       "      <td>2</td>\n",
       "      <td>pop_0_subpop_2</td>\n",
       "      <td>08_projected_per_sub_pop</td>\n",
       "    </tr>\n",
       "    <tr>\n",
       "      <th>2</th>\n",
       "      <td>0.058531</td>\n",
       "      <td>5.270240</td>\n",
       "      <td>rs12745158_G</td>\n",
       "      <td>1.232614</td>\n",
       "      <td>1</td>\n",
       "      <td>pop_1_subpop_0</td>\n",
       "      <td>08_projected_per_sub_pop</td>\n",
       "    </tr>\n",
       "    <tr>\n",
       "      <th>2</th>\n",
       "      <td>0.222673</td>\n",
       "      <td>-1.315814</td>\n",
       "      <td>rs12745158_G</td>\n",
       "      <td>0.652333</td>\n",
       "      <td>2</td>\n",
       "      <td>pop_1_subpop_1</td>\n",
       "      <td>08_projected_per_sub_pop</td>\n",
       "    </tr>\n",
       "    <tr>\n",
       "      <th>1</th>\n",
       "      <td>0.422229</td>\n",
       "      <td>1.603859</td>\n",
       "      <td>rs12745158_G</td>\n",
       "      <td>0.374452</td>\n",
       "      <td>2</td>\n",
       "      <td>pop_1_subpop_2</td>\n",
       "      <td>08_projected_per_sub_pop</td>\n",
       "    </tr>\n",
       "    <tr>\n",
       "      <th>2</th>\n",
       "      <td>0.133921</td>\n",
       "      <td>1.403120</td>\n",
       "      <td>rs12745158_G</td>\n",
       "      <td>0.873152</td>\n",
       "      <td>1</td>\n",
       "      <td>pop_1_subpop_3</td>\n",
       "      <td>08_projected_per_sub_pop</td>\n",
       "    </tr>\n",
       "    <tr>\n",
       "      <th>1</th>\n",
       "      <td>0.392363</td>\n",
       "      <td>0.876370</td>\n",
       "      <td>rs12745158_G</td>\n",
       "      <td>0.406312</td>\n",
       "      <td>2</td>\n",
       "      <td>pop_2_subpop_0</td>\n",
       "      <td>08_projected_per_sub_pop</td>\n",
       "    </tr>\n",
       "    <tr>\n",
       "      <th>2</th>\n",
       "      <td>0.090999</td>\n",
       "      <td>3.384176</td>\n",
       "      <td>rs12745158_G</td>\n",
       "      <td>1.040963</td>\n",
       "      <td>1</td>\n",
       "      <td>pop_2_subpop_1</td>\n",
       "      <td>08_projected_per_sub_pop</td>\n",
       "    </tr>\n",
       "    <tr>\n",
       "      <th>1</th>\n",
       "      <td>0.451859</td>\n",
       "      <td>-0.525493</td>\n",
       "      <td>rs12745158_G</td>\n",
       "      <td>0.344997</td>\n",
       "      <td>3</td>\n",
       "      <td>pop_2_subpop_2</td>\n",
       "      <td>08_projected_per_sub_pop</td>\n",
       "    </tr>\n",
       "    <tr>\n",
       "      <th>2</th>\n",
       "      <td>0.008333</td>\n",
       "      <td>26.767256</td>\n",
       "      <td>rs12745158_G</td>\n",
       "      <td>2.079198</td>\n",
       "      <td>2</td>\n",
       "      <td>pop_3_subpop_0</td>\n",
       "      <td>08_projected_per_sub_pop</td>\n",
       "    </tr>\n",
       "    <tr>\n",
       "      <th>2</th>\n",
       "      <td>0.154948</td>\n",
       "      <td>4.866282</td>\n",
       "      <td>rs12745158_G</td>\n",
       "      <td>0.809814</td>\n",
       "      <td>1</td>\n",
       "      <td>pop_3_subpop_1</td>\n",
       "      <td>08_projected_per_sub_pop</td>\n",
       "    </tr>\n",
       "    <tr>\n",
       "      <th>1</th>\n",
       "      <td>0.399657</td>\n",
       "      <td>-1.963226</td>\n",
       "      <td>rs12745158_G</td>\n",
       "      <td>0.398313</td>\n",
       "      <td>2</td>\n",
       "      <td>pop_3_subpop_2</td>\n",
       "      <td>08_projected_per_sub_pop</td>\n",
       "    </tr>\n",
       "    <tr>\n",
       "      <th>1</th>\n",
       "      <td>0.197214</td>\n",
       "      <td>6.675164</td>\n",
       "      <td>rs12745158_G</td>\n",
       "      <td>0.705062</td>\n",
       "      <td>3</td>\n",
       "      <td>pop_3_subpop_3</td>\n",
       "      <td>08_projected_per_sub_pop</td>\n",
       "    </tr>\n",
       "    <tr>\n",
       "      <th>0</th>\n",
       "      <td>0.653408</td>\n",
       "      <td>-0.252347</td>\n",
       "      <td>rs12745158_G</td>\n",
       "      <td>0.184815</td>\n",
       "      <td>3</td>\n",
       "      <td>pop_3_subpop_4</td>\n",
       "      <td>08_projected_per_sub_pop</td>\n",
       "    </tr>\n",
       "    <tr>\n",
       "      <th>2</th>\n",
       "      <td>0.136938</td>\n",
       "      <td>4.915877</td>\n",
       "      <td>rs12745158_G</td>\n",
       "      <td>0.863477</td>\n",
       "      <td>1</td>\n",
       "      <td>pop_4_subpop_0</td>\n",
       "      <td>08_projected_per_sub_pop</td>\n",
       "    </tr>\n",
       "    <tr>\n",
       "      <th>2</th>\n",
       "      <td>0.317308</td>\n",
       "      <td>2.297452</td>\n",
       "      <td>rs12745158_G</td>\n",
       "      <td>0.498519</td>\n",
       "      <td>2</td>\n",
       "      <td>pop_4_subpop_1</td>\n",
       "      <td>08_projected_per_sub_pop</td>\n",
       "    </tr>\n",
       "  </tbody>\n",
       "</table>\n",
       "</div>"
      ],
      "text/plain": [
       "       pval      betas        snp_rs     -logp  dim             pop  \\\n",
       "2  0.403572  -0.429250  rs12745158_G  0.394079    2  pop_0_subpop_0   \n",
       "2  0.184803   2.707016  rs12745158_G  0.733292    1  pop_0_subpop_1   \n",
       "2  0.271207   1.207662  rs12745158_G  0.566698    2  pop_0_subpop_2   \n",
       "2  0.058531   5.270240  rs12745158_G  1.232614    1  pop_1_subpop_0   \n",
       "2  0.222673  -1.315814  rs12745158_G  0.652333    2  pop_1_subpop_1   \n",
       "1  0.422229   1.603859  rs12745158_G  0.374452    2  pop_1_subpop_2   \n",
       "2  0.133921   1.403120  rs12745158_G  0.873152    1  pop_1_subpop_3   \n",
       "1  0.392363   0.876370  rs12745158_G  0.406312    2  pop_2_subpop_0   \n",
       "2  0.090999   3.384176  rs12745158_G  1.040963    1  pop_2_subpop_1   \n",
       "1  0.451859  -0.525493  rs12745158_G  0.344997    3  pop_2_subpop_2   \n",
       "2  0.008333  26.767256  rs12745158_G  2.079198    2  pop_3_subpop_0   \n",
       "2  0.154948   4.866282  rs12745158_G  0.809814    1  pop_3_subpop_1   \n",
       "1  0.399657  -1.963226  rs12745158_G  0.398313    2  pop_3_subpop_2   \n",
       "1  0.197214   6.675164  rs12745158_G  0.705062    3  pop_3_subpop_3   \n",
       "0  0.653408  -0.252347  rs12745158_G  0.184815    3  pop_3_subpop_4   \n",
       "2  0.136938   4.915877  rs12745158_G  0.863477    1  pop_4_subpop_0   \n",
       "2  0.317308   2.297452  rs12745158_G  0.498519    2  pop_4_subpop_1   \n",
       "\n",
       "                     folder  \n",
       "2  08_projected_per_sub_pop  \n",
       "2  08_projected_per_sub_pop  \n",
       "2  08_projected_per_sub_pop  \n",
       "2  08_projected_per_sub_pop  \n",
       "2  08_projected_per_sub_pop  \n",
       "1  08_projected_per_sub_pop  \n",
       "2  08_projected_per_sub_pop  \n",
       "1  08_projected_per_sub_pop  \n",
       "2  08_projected_per_sub_pop  \n",
       "1  08_projected_per_sub_pop  \n",
       "2  08_projected_per_sub_pop  \n",
       "2  08_projected_per_sub_pop  \n",
       "1  08_projected_per_sub_pop  \n",
       "1  08_projected_per_sub_pop  \n",
       "0  08_projected_per_sub_pop  \n",
       "2  08_projected_per_sub_pop  \n",
       "2  08_projected_per_sub_pop  "
      ]
     },
     "execution_count": 51,
     "metadata": {},
     "output_type": "execute_result"
    }
   ],
   "source": [
    "snps_folders"
   ]
  },
  {
   "cell_type": "code",
   "execution_count": null,
   "metadata": {},
   "outputs": [],
   "source": [
    "# Assuming df is your DataFrame\n",
    "for index, row in snps_folders.iterrows():\n",
    "    pop = row['pop']\n",
    "    dim = row['dim']\n",
    "    folder = row['folder']\n",
    "    path_projected = f\"{CONFIG['PATH_data']}/{folder}/{pop}/dim_{dim}/\""
   ]
  },
  {
   "cell_type": "code",
   "execution_count": 62,
   "metadata": {},
   "outputs": [],
   "source": [
    "path_usefull = f\"{CONFIG['PATH_data']}/02_usefull/allele_frequencies.pkl\"\n",
    "AFs = pd.read_pickle(path_usefull)\n"
   ]
  },
  {
   "cell_type": "code",
   "execution_count": 64,
   "metadata": {},
   "outputs": [
    {
     "data": {
      "text/html": [
       "<div>\n",
       "<style scoped>\n",
       "    .dataframe tbody tr th:only-of-type {\n",
       "        vertical-align: middle;\n",
       "    }\n",
       "\n",
       "    .dataframe tbody tr th {\n",
       "        vertical-align: top;\n",
       "    }\n",
       "\n",
       "    .dataframe thead th {\n",
       "        text-align: right;\n",
       "    }\n",
       "</style>\n",
       "<table border=\"1\" class=\"dataframe\">\n",
       "  <thead>\n",
       "    <tr style=\"text-align: right;\">\n",
       "      <th></th>\n",
       "      <th>snp_rs</th>\n",
       "      <th>AF</th>\n",
       "      <th>RSID</th>\n",
       "      <th>POS</th>\n",
       "      <th>CHROM</th>\n",
       "    </tr>\n",
       "  </thead>\n",
       "  <tbody>\n",
       "    <tr>\n",
       "      <th>1363</th>\n",
       "      <td>rs12745158_G</td>\n",
       "      <td>0.5</td>\n",
       "      <td>rs12745158</td>\n",
       "      <td>39802413</td>\n",
       "      <td>1</td>\n",
       "    </tr>\n",
       "  </tbody>\n",
       "</table>\n",
       "</div>"
      ],
      "text/plain": [
       "            snp_rs   AF        RSID       POS  CHROM\n",
       "1363  rs12745158_G  0.5  rs12745158  39802413      1"
      ]
     },
     "execution_count": 64,
     "metadata": {},
     "output_type": "execute_result"
    }
   ],
   "source": [
    "AFs[AFs['snp_rs'] == snp]"
   ]
  },
  {
   "cell_type": "code",
   "execution_count": 61,
   "metadata": {},
   "outputs": [
    {
     "data": {
      "text/html": [
       "<div>\n",
       "<style scoped>\n",
       "    .dataframe tbody tr th:only-of-type {\n",
       "        vertical-align: middle;\n",
       "    }\n",
       "\n",
       "    .dataframe tbody tr th {\n",
       "        vertical-align: top;\n",
       "    }\n",
       "\n",
       "    .dataframe thead th {\n",
       "        text-align: right;\n",
       "    }\n",
       "</style>\n",
       "<table border=\"1\" class=\"dataframe\">\n",
       "  <thead>\n",
       "    <tr style=\"text-align: right;\">\n",
       "      <th></th>\n",
       "      <th>pval</th>\n",
       "      <th>betas</th>\n",
       "      <th>snp_rs</th>\n",
       "      <th>-logp</th>\n",
       "      <th>dim</th>\n",
       "    </tr>\n",
       "  </thead>\n",
       "  <tbody>\n",
       "    <tr>\n",
       "      <th>2</th>\n",
       "      <td>0.317308</td>\n",
       "      <td>2.297452</td>\n",
       "      <td>rs12745158_G</td>\n",
       "      <td>0.498519</td>\n",
       "      <td>2</td>\n",
       "    </tr>\n",
       "  </tbody>\n",
       "</table>\n",
       "</div>"
      ],
      "text/plain": [
       "       pval     betas        snp_rs     -logp  dim\n",
       "2  0.317308  2.297452  rs12745158_G  0.498519    2"
      ]
     },
     "execution_count": 61,
     "metadata": {},
     "output_type": "execute_result"
    }
   ],
   "source": [
    "snp_id[snp_id['snp_rs'] == snp]"
   ]
  },
  {
   "cell_type": "code",
   "execution_count": null,
   "metadata": {},
   "outputs": [],
   "source": []
  },
  {
   "cell_type": "code",
   "execution_count": null,
   "metadata": {},
   "outputs": [],
   "source": []
  },
  {
   "cell_type": "code",
   "execution_count": null,
   "metadata": {},
   "outputs": [],
   "source": []
  },
  {
   "cell_type": "code",
   "execution_count": null,
   "metadata": {},
   "outputs": [],
   "source": []
  },
  {
   "cell_type": "code",
   "execution_count": null,
   "metadata": {},
   "outputs": [],
   "source": []
  },
  {
   "cell_type": "code",
   "execution_count": null,
   "metadata": {},
   "outputs": [],
   "source": []
  }
 ],
 "metadata": {
  "kernelspec": {
   "display_name": "pca_projection",
   "language": "python",
   "name": "python3"
  },
  "language_info": {
   "codemirror_mode": {
    "name": "ipython",
    "version": 3
   },
   "file_extension": ".py",
   "mimetype": "text/x-python",
   "name": "python",
   "nbconvert_exporter": "python",
   "pygments_lexer": "ipython3",
   "version": "3.8.12"
  }
 },
 "nbformat": 4,
 "nbformat_minor": 2
}
