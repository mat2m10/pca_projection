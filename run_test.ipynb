{
 "cells": [
  {
   "cell_type": "code",
   "execution_count": 1,
   "metadata": {},
   "outputs": [
    {
     "name": "stderr",
     "output_type": "stream",
     "text": [
      "2025-02-26 13:18:07.402671: I tensorflow/core/util/port.cc:110] oneDNN custom operations are on. You may see slightly different numerical results due to floating-point round-off errors from different computation orders. To turn them off, set the environment variable `TF_ENABLE_ONEDNN_OPTS=0`.\n",
      "2025-02-26 13:18:07.410517: I tensorflow/tsl/cuda/cudart_stub.cc:28] Could not find cuda drivers on your machine, GPU will not be used.\n",
      "2025-02-26 13:18:07.516485: I tensorflow/tsl/cuda/cudart_stub.cc:28] Could not find cuda drivers on your machine, GPU will not be used.\n",
      "2025-02-26 13:18:07.518299: I tensorflow/core/platform/cpu_feature_guard.cc:182] This TensorFlow binary is optimized to use available CPU instructions in performance-critical operations.\n",
      "To enable the following instructions: AVX2 AVX_VNNI FMA, in other operations, rebuild TensorFlow with the appropriate compiler flags.\n",
      "2025-02-26 13:18:08.573277: W tensorflow/compiler/tf2tensorrt/utils/py_utils.cc:38] TF-TRT Warning: Could not find TensorRT\n"
     ]
    }
   ],
   "source": [
    "import os\n",
    "import math\n",
    "import pandas as pd\n",
    "import numpy as np\n",
    "import umap\n",
    "from functools import reduce\n",
    "from sklearn.preprocessing import StandardScaler\n",
    "from sklearn.preprocessing import MaxAbsScaler\n",
    "\n",
    "# Configuration settings\n",
    "from chasm.config import CONFIG\n",
    "\n",
    "# PLINK preprocessing utilities\n",
    "from chasm.plink_preprocessing import (\n",
    "    concat_AFs, \n",
    "    divide_into_chunks, \n",
    "    make_ids,\n",
    "    make_AFs\n",
    ")\n",
    "\n",
    "from chasm.data_preprocessing import (\n",
    "    is_snp,\n",
    "    make_df,\n",
    "    calculate_AFs,\n",
    "    merge_AFs_ensembl_build,\n",
    "    divide_into_chunks,\n",
    "    align_dataframes,\n",
    ")\n",
    "from chasm.gwas import ols_regression, pca_of_n_snps, project_on_dimensions\n",
    "\n",
    "from chasm.visualization import make_population_plot, plot_training_history\n",
    "from chasm.ld_blocks import segmenter\n",
    "from chasm.abyss import linear_abyss, AE, decoder\n",
    "\n",
    "from chasm.fst import make_fst, make_global_fst\n",
    "from chasm.cluster import silhouette_score_clusters"
   ]
  },
  {
   "cell_type": "code",
   "execution_count": 2,
   "metadata": {},
   "outputs": [
    {
     "data": {
      "text/plain": [
       "'\\nsize_chunck = 20_000\\nmin_maf = 0.01\\n\\npath_raw = f\"{CONFIG[\\'PATH_data\\']}/01_raw/geno.pkl\"\\npath_afs = f\"{CONFIG[\\'PATH_data\\']}/02_usefull/allele_frequencies.pkl\"\\npath_output = f\"{CONFIG[\\'PATH_data\\']}/03_macro_similar_AF/\"\\n\\ndivide_into_chunks(path_raw, path_afs, path_output, size_chunck, min_maf)\\n'"
      ]
     },
     "execution_count": 2,
     "metadata": {},
     "output_type": "execute_result"
    }
   ],
   "source": [
    "# Changing the GTM data into a pickle file having an id file and calculating the AFs for each SNP \n",
    "# with the CHROM:POS for every corresponding RSID\n",
    "\n",
    "# GTM data\n",
    "\"\"\"\n",
    "path_data_raw = f\"{CONFIG['PATH_data']}/00_raw/recoded_1000G.raw\"\n",
    "path_raw = f\"{CONFIG['PATH_data']}/01_raw/\"\n",
    "path_usefull = f\"{CONFIG['PATH_data']}/02_usefull/\"\n",
    "\n",
    "geno = make_df(path_data_raw, path_usefull, path_raw)\n",
    "\n",
    "afs = calculate_AFs(geno)\n",
    "\n",
    "path_ensembl = f\"/mnt/e/1000G_data/usefull/ensembl_build\"\n",
    "merge_AFs_ensembl_build(path_ensembl, path_usefull, afs)\n",
    "\"\"\"\n",
    "# Divide the AFs into chunks\n",
    "\"\"\"\n",
    "size_chunck = 20_000\n",
    "min_maf = 0.01\n",
    "\n",
    "path_raw = f\"{CONFIG['PATH_data']}/01_raw/geno.pkl\"\n",
    "path_afs = f\"{CONFIG['PATH_data']}/02_usefull/allele_frequencies.pkl\"\n",
    "path_output = f\"{CONFIG['PATH_data']}/03_macro_similar_AF/\"\n",
    "\n",
    "divide_into_chunks(path_raw, path_afs, path_output, size_chunck, min_maf)\n",
    "\"\"\""
   ]
  },
  {
   "cell_type": "markdown",
   "metadata": {},
   "source": [
    "# Choose SNPs to project on n dimensions"
   ]
  },
  {
   "cell_type": "markdown",
   "metadata": {},
   "source": [
    "# Observe raw dimensions"
   ]
  },
  {
   "cell_type": "code",
   "execution_count": 3,
   "metadata": {},
   "outputs": [],
   "source": [
    "path_ids = f\"{CONFIG['PATH_data']}/02_usefull/ids.pkl\"\n",
    "path_panel = f\"{CONFIG['PATH_data']}/00_raw/all.panel\"\n",
    "ids = pd.read_pickle(path_ids)\n",
    "labels = pd.read_pickle(path_panel)\n",
    "ids = ids.merge(labels, left_on=\"IID\", right_on=\"Sample name\")"
   ]
  },
  {
   "cell_type": "code",
   "execution_count": 5,
   "metadata": {},
   "outputs": [
    {
     "data": {
      "text/plain": [
       "'\\npath_macro_similar = f\"{CONFIG[\\'PATH_data\\']}/03_macro_similar_AF/\"\\niterations = 3\\n\\nfor iter in list(range(iterations)):\\n    iter += 2\\n    print(f\"Running iteration {iter}\")\\n    path_output = f\"{CONFIG[\\'PATH_data\\']}/iteration_{iter}/\"\\n    \\n    if iter == 2:\\n        ids[f\"cluster_{iter}\"] = f\"{0}\"\\n        os.makedirs(f\"{path_output}/pop_{0}\", exist_ok=True)\\n        ids.to_pickle(f\"{path_output}/pop_{0}/ids.pkl\")\\n        \\n    else:\\n        pass\\n    \\n    cluster_to_add = []\\n    for sub_pop in ids[f\"cluster_{iter}\"].unique():\\n        path_output = f\"{CONFIG[\\'PATH_data\\']}/iteration_{iter}/pop_{sub_pop}/\"\\n        os.makedirs(path_output, exist_ok=True)\\n        temp_ids = ids[ids[f\"cluster_{iter}\"] == sub_pop]\\n        nr_of_projected_dimensions = 3\\n        geno = project_on_dimensions(path_macro_similar, path_output, temp_ids, nr_of_projected_dimensions=3, nr_snps = 20_000, n_components = 10)\\n        \\n        existing_dims = []   \\n        for PCs in [f for f in os.listdir(path_output) if f.startswith(\\'PCs\\')]:\\n            dim = PCs.split(\\'PCs_\\')[1].split(\\'.pkl\\')[0]\\n            path_PC = f\"{path_output}/{PCs}\"\\n            PCs = pd.read_pickle(f\"{path_PC}\")\\n            temp_ids = temp_ids.copy()\\n            temp_ids[dim] = list(PCs[\\'PC1\\'])\\n            existing_dims.append(dim)\\n        labels = silhouette_score_clusters(temp_ids, existing_dims, plot=False)\\n        for element in labels:\\n            cluster_to_add.append(f\"{sub_pop}_{element}\")\\n            \\n    ids[f\"cluster_{iter+1}\"] = cluster_to_add\\n    ids.to_pickle(f\"{CONFIG[\\'PATH_data\\']}/iteration_{iter}/ids.pkl\")\\n    \\n    # Vizualization\\n    path_input = f\"{CONFIG[\\'PATH_data\\']}/iteration_{iter}/\"\\n    for pop in [f for f in os.listdir(path_input) if f.startswith(\\'pop\\')]:\\n        pop = pop.split(\\'pop_\\')[1]\\n        temp_ids = ids[ids[f\"cluster_{iter}\"] == pop]\\n        path_pop = f\"{path_input}/pop_{pop}\"\\n        for PCs in [f for f in os.listdir(path_pop) if f.startswith(\\'PCs\\')]:\\n            dim = PCs.split(\\'PCs_\\')[1].split(\\'.pkl\\')[0]\\n            path_PC = f\"{path_pop}/{PCs}\"\\n            PCs = pd.read_pickle(f\"{path_PC}\")\\n            temp_ids = temp_ids.copy()\\n            temp_ids[dim] = list(PCs[\\'PC1\\'])\\n        if len(list(temp_ids[\\'Population name\\'].unique())) > 20:\\n            make_population_plot(temp_ids, \\'dim_1\\', \\'dim_2\\', \\'Superpopulation name\\', f\"iteration {iter} - pop {pop}\", palette = \\'rocket\\')\\n        else:\\n            make_population_plot(temp_ids, \\'dim_1\\', \\'dim_2\\', \\'Population name\\', f\"iteration {iter} - pop {pop}\", palette = \\'rocket\\')\\n'"
      ]
     },
     "execution_count": 5,
     "metadata": {},
     "output_type": "execute_result"
    }
   ],
   "source": [
    "\"\"\"\n",
    "path_macro_similar = f\"{CONFIG['PATH_data']}/03_macro_similar_AF/\"\n",
    "iterations = 3\n",
    "\n",
    "for iter in list(range(iterations)):\n",
    "    iter += 2\n",
    "    print(f\"Running iteration {iter}\")\n",
    "    path_output = f\"{CONFIG['PATH_data']}/iteration_{iter}/\"\n",
    "    \n",
    "    if iter == 2:\n",
    "        ids[f\"cluster_{iter}\"] = f\"{0}\"\n",
    "        os.makedirs(f\"{path_output}/pop_{0}\", exist_ok=True)\n",
    "        ids.to_pickle(f\"{path_output}/pop_{0}/ids.pkl\")\n",
    "        \n",
    "    else:\n",
    "        pass\n",
    "    \n",
    "    cluster_to_add = []\n",
    "    for sub_pop in ids[f\"cluster_{iter}\"].unique():\n",
    "        path_output = f\"{CONFIG['PATH_data']}/iteration_{iter}/pop_{sub_pop}/\"\n",
    "        os.makedirs(path_output, exist_ok=True)\n",
    "        temp_ids = ids[ids[f\"cluster_{iter}\"] == sub_pop]\n",
    "        nr_of_projected_dimensions = 3\n",
    "        geno = project_on_dimensions(path_macro_similar, path_output, temp_ids, nr_of_projected_dimensions=3, nr_snps = 20_000, n_components = 10)\n",
    "        \n",
    "        existing_dims = []   \n",
    "        for PCs in [f for f in os.listdir(path_output) if f.startswith('PCs')]:\n",
    "            dim = PCs.split('PCs_')[1].split('.pkl')[0]\n",
    "            path_PC = f\"{path_output}/{PCs}\"\n",
    "            PCs = pd.read_pickle(f\"{path_PC}\")\n",
    "            temp_ids = temp_ids.copy()\n",
    "            temp_ids[dim] = list(PCs['PC1'])\n",
    "            existing_dims.append(dim)\n",
    "        labels = silhouette_score_clusters(temp_ids, existing_dims, plot=False)\n",
    "        for element in labels:\n",
    "            cluster_to_add.append(f\"{sub_pop}_{element}\")\n",
    "            \n",
    "    ids[f\"cluster_{iter+1}\"] = cluster_to_add\n",
    "    ids.to_pickle(f\"{CONFIG['PATH_data']}/iteration_{iter}/ids.pkl\")\n",
    "    \n",
    "    # Vizualization\n",
    "    path_input = f\"{CONFIG['PATH_data']}/iteration_{iter}/\"\n",
    "    for pop in [f for f in os.listdir(path_input) if f.startswith('pop')]:\n",
    "        pop = pop.split('pop_')[1]\n",
    "        temp_ids = ids[ids[f\"cluster_{iter}\"] == pop]\n",
    "        path_pop = f\"{path_input}/pop_{pop}\"\n",
    "        for PCs in [f for f in os.listdir(path_pop) if f.startswith('PCs')]:\n",
    "            dim = PCs.split('PCs_')[1].split('.pkl')[0]\n",
    "            path_PC = f\"{path_pop}/{PCs}\"\n",
    "            PCs = pd.read_pickle(f\"{path_PC}\")\n",
    "            temp_ids = temp_ids.copy()\n",
    "            temp_ids[dim] = list(PCs['PC1'])\n",
    "        if len(list(temp_ids['Population name'].unique())) > 20:\n",
    "            make_population_plot(temp_ids, 'dim_1', 'dim_2', 'Superpopulation name', f\"iteration {iter} - pop {pop}\", palette = 'rocket')\n",
    "        else:\n",
    "            make_population_plot(temp_ids, 'dim_1', 'dim_2', 'Population name', f\"iteration {iter} - pop {pop}\", palette = 'rocket')\n",
    "\"\"\""
   ]
  },
  {
   "cell_type": "markdown",
   "metadata": {},
   "source": [
    "# Find the dims per snp"
   ]
  },
  {
   "cell_type": "code",
   "execution_count": null,
   "metadata": {},
   "outputs": [],
   "source": [
    "\n",
    "\"\"\"\n",
    "path_data = f\"{CONFIG['PATH_data']}/\"\n",
    "iteration_files = [f for f in os.listdir(path_data) if f.startswith('iteration')]\n",
    "snp_ids_dfs = []\n",
    "for iteration in iteration_files:\n",
    "    path_iteration = f\"{path_data}/{iteration}/\"\n",
    "    for pop in [f for f in os.listdir(path_iteration) if f.startswith('pop')]:\n",
    "        pop = pop.split('pop_')[1]\n",
    "        path_snp_ids = f\"{path_iteration}/pop_{pop}/snp_ids.pkl\"\n",
    "        snp_ids = pd.read_pickle(path_snp_ids)\n",
    "        snp_ids = snp_ids.drop(columns=['pval', 'betas', '-logp'])\n",
    "        snp_ids[f\"{iteration}_pop_{pop}_dim\"] = list(snp_ids['dim'])\n",
    "        snp_ids = snp_ids.drop(columns=['dim'])\n",
    "        snp_ids = snp_ids.sort_index()  # Now sort\n",
    "        snp_ids_dfs.append(snp_ids)\n",
    "        \n",
    "snp_ids = reduce(lambda left, right: pd.merge(left, right, on='snp_rs'), snp_ids_dfs)\n",
    "snp_ids.to_pickle(f\"{CONFIG['PATH_data']}/02_usefull/post_iterations_snp_ids.pkl\")\n",
    "\"\"\""
   ]
  },
  {
   "cell_type": "markdown",
   "metadata": {},
   "source": [
    "# Make autoencoder"
   ]
  },
  {
   "cell_type": "code",
   "execution_count": 5,
   "metadata": {},
   "outputs": [],
   "source": [
    "# create one dimensional representation of the data"
   ]
  },
  {
   "cell_type": "code",
   "execution_count": 26,
   "metadata": {},
   "outputs": [],
   "source": [
    "def concat_dims(path_data, nr_PCs_per_dim, pop):\n",
    "    PCs_labels = []\n",
    "    for i in range(nr_PCs_per_dim):\n",
    "        PCs_labels.append(f\"PC{i+1}\")\n",
    "    dims = [f for f in os.listdir(path_data) if f.startswith('PCs')]\n",
    "    dims_df = pd.DataFrame()\n",
    "    for dim  in dims:\n",
    "        path_dim = f\"{path_data}/{dim}\"\n",
    "        dim = dim.split('PCs_')[1].split('.pkl')[0]\n",
    "        PCs = pd.read_pickle(path_dim)\n",
    "        for label in PCs_labels:\n",
    "            PCs.rename(columns={f\"{label}\": f\"{label}_{dim}_pop_{pop}\"}, inplace=True)\n",
    "            dims_df[f\"{label}_{dim}_pop_{pop}\"] = PCs[f\"{label}_{dim}_pop_{pop}\"]\n",
    "    return dims_df"
   ]
  },
  {
   "cell_type": "code",
   "execution_count": 43,
   "metadata": {},
   "outputs": [
    {
     "data": {
      "image/png": "[encoded data removed]",
      "text/plain": [
       "<Figure size 1000x600 with 1 Axes>"
      ]
     },
     "metadata": {},
     "output_type": "display_data"
    }
   ],
   "source": [
    "path_data = f\"{CONFIG['PATH_data']}/iteration_2/pop_0/\"\n",
    "pop = '0'\n",
    "dims_df = concat_dims(path_data, 3, pop)\n",
    "\n",
    "hidden = 2\n",
    "epoch = 500\n",
    "patience = 10\n",
    "[autoencoder, bottleneck_model, history] = AE(dims_df, 1, dims_df.shape[1]*2, epoch, patience)\n",
    "\n",
    "bottle = bottleneck_model(dims_df.to_numpy())\n",
    "bottleneck_df = pd.DataFrame(bottle, columns=['PC1'])\n",
    "path_data = f\"{CONFIG['PATH_data']}/iteration_1/pop_0/\"\n",
    "os.makedirs(path_data, exist_ok=True)\n",
    "bottleneck_df.to_pickle(f\"{path_data}/PCs_dim_1.pkl\")\n",
    "ids = pd.read_pickle(f\"{CONFIG['PATH_data']}/02_usefull/ids.pkl\")\n",
    "ids['center_dim'] = list(bottleneck_df['PC1'])\n",
    "ids.to_pickle(f\"{CONFIG['PATH_data']}/02_usefull/ids_with_center_dim.pkl\")\n",
    "ids[f\"cluster_1\"] = pop\n",
    "ids.to_pickle(f\"{CONFIG['PATH_data']}/iteration_1/ids.pkl\")\n",
    "\n",
    "make_population_plot(ids, 'center_dim', 'center_dim', 'FID', f\"show IDs\", palette = 'rocket')"
   ]
  },
  {
   "cell_type": "markdown",
   "metadata": {},
   "source": [
    "# Use lower dimensional representation to create AF probabilities"
   ]
  },
  {
   "cell_type": "code",
   "execution_count": 65,
   "metadata": {},
   "outputs": [
    {
     "data": {
      "text/plain": [
       "'\\n# make for every dims a concatenated dataframe\\niterations = [f for f in os.listdir(f\"{CONFIG[\\'PATH_data\\']}\") if f.startswith(\\'iteration\\')]\\niterations.sort()\\nfor iteration in iterations:\\n    path_iteration = f\"{CONFIG[\\'PATH_data\\']}/{iteration}\"\\n    ids = pd.read_pickle(f\"{path_iteration}/ids.pkl\")\\n    dims_dfs = []\\n    for pop in [f for f in os.listdir(path_iteration) if f.startswith(\\'pop\\')]:\\n        pop = pop.split(\\'pop_\\')[1]\\n        temp_ids = ids[ids[f\"cluster_{iteration.split(\\'_\\')[1]}\"] == pop]\\n        path_pop = f\"{path_iteration}/pop_{pop}/\"\\n        dims = [f for f in os.listdir(path_pop) if f.startswith(\\'PCs\\')]\\n        \\n        if iteration == \\'iteration_1\\':\\n            PCs_labels = [\\'PC1\\']\\n        else:\\n            nr_PCs = 3\\n            PCs_labels = []\\n            for i in range(nr_PCs):\\n                PCs_labels.append(f\"PC{i+1}\")\\n\\n        dims_df = pd.DataFrame()\\n        for dim  in dims:\\n            path_dim = f\"{path_pop}/{dim}\"\\n            dim = dim.split(\\'PCs_\\')[1].split(\\'.pkl\\')[0]\\n            \\n            PCs = pd.read_pickle(path_dim)\\n            for label in PCs_labels:\\n                PCs.rename(columns={f\"{label}\": f\"pop_{pop}_{label}_{dim}\"}, inplace=True)\\n                dims_df[f\"pop_{pop}_{label}_{dim}\"] = list(PCs[f\"pop_{pop}_{label}_{dim}\"])\\n        dims_df.index = temp_ids.index\\n        dims_dfs.append(dims_df)\\n        \\n\\n    # Concatenate DataFrames, filling missing columns with NaN\\n    dims_dfs = pd.concat(dims_dfs, ignore_index=False, sort=True)\\n    dims_dfs = dims_dfs.fillna(0)\\n    scaler = StandardScaler()\\n    scaler = MaxAbsScaler()\\n    dims_dfs[:] = scaler.fit_transform(dims_dfs)\\n    dims_dfs.to_pickle(f\"{path_iteration}/concated_one_hot_dims.pkl\")\\n'"
      ]
     },
     "execution_count": 65,
     "metadata": {},
     "output_type": "execute_result"
    }
   ],
   "source": [
    "\"\"\"\n",
    "# make for every dims a concatenated dataframe\n",
    "iterations = [f for f in os.listdir(f\"{CONFIG['PATH_data']}\") if f.startswith('iteration')]\n",
    "iterations.sort()\n",
    "for iteration in iterations:\n",
    "    path_iteration = f\"{CONFIG['PATH_data']}/{iteration}\"\n",
    "    ids = pd.read_pickle(f\"{path_iteration}/ids.pkl\")\n",
    "    dims_dfs = []\n",
    "    for pop in [f for f in os.listdir(path_iteration) if f.startswith('pop')]:\n",
    "        pop = pop.split('pop_')[1]\n",
    "        temp_ids = ids[ids[f\"cluster_{iteration.split('_')[1]}\"] == pop]\n",
    "        path_pop = f\"{path_iteration}/pop_{pop}/\"\n",
    "        dims = [f for f in os.listdir(path_pop) if f.startswith('PCs')]\n",
    "        \n",
    "        if iteration == 'iteration_1':\n",
    "            PCs_labels = ['PC1']\n",
    "        else:\n",
    "            nr_PCs = 3\n",
    "            PCs_labels = []\n",
    "            for i in range(nr_PCs):\n",
    "                PCs_labels.append(f\"PC{i+1}\")\n",
    "\n",
    "        dims_df = pd.DataFrame()\n",
    "        for dim  in dims:\n",
    "            path_dim = f\"{path_pop}/{dim}\"\n",
    "            dim = dim.split('PCs_')[1].split('.pkl')[0]\n",
    "            \n",
    "            PCs = pd.read_pickle(path_dim)\n",
    "            for label in PCs_labels:\n",
    "                PCs.rename(columns={f\"{label}\": f\"pop_{pop}_{label}_{dim}\"}, inplace=True)\n",
    "                dims_df[f\"pop_{pop}_{label}_{dim}\"] = list(PCs[f\"pop_{pop}_{label}_{dim}\"])\n",
    "        dims_df.index = temp_ids.index\n",
    "        dims_dfs.append(dims_df)\n",
    "        \n",
    "\n",
    "    # Concatenate DataFrames, filling missing columns with NaN\n",
    "    dims_dfs = pd.concat(dims_dfs, ignore_index=False, sort=True)\n",
    "    dims_dfs = dims_dfs.fillna(0)\n",
    "    scaler = StandardScaler()\n",
    "    scaler = MaxAbsScaler()\n",
    "    dims_dfs[:] = scaler.fit_transform(dims_dfs)\n",
    "    dims_dfs.to_pickle(f\"{path_iteration}/concated_one_hot_dims.pkl\")\n",
    "\"\"\""
   ]
  },
  {
   "cell_type": "code",
   "execution_count": 2,
   "metadata": {},
   "outputs": [
    {
     "name": "stdout",
     "output_type": "stream",
     "text": [
      "Running iteration 1\n"
     ]
    },
    {
     "name": "stderr",
     "output_type": "stream",
     "text": [
      "2025-02-26 13:18:17.703518: I tensorflow/compiler/xla/stream_executor/cuda/cuda_gpu_executor.cc:981] could not open file to read NUMA node: /sys/bus/pci/devices/0000:01:00.0/numa_node\n",
      "Your kernel may have been built without NUMA support.\n",
      "2025-02-26 13:18:17.703931: W tensorflow/core/common_runtime/gpu/gpu_device.cc:1960] Cannot dlopen some GPU libraries. Please make sure the missing libraries mentioned above are installed properly if you would like to use GPU. Follow the guide at https://www.tensorflow.org/install/gpu for how to download and setup the required libraries for your platform.\n",
      "Skipping registering GPU devices...\n"
     ]
    },
    {
     "name": "stdout",
     "output_type": "stream",
     "text": [
      "Test Loss: 0.4322, Test MAE: 0.5201\n"
     ]
    },
    {
     "name": "stderr",
     "output_type": "stream",
     "text": [
      "/home/mat2m10/.pyenv/versions/3.8.12/envs/pca_projection/lib/python3.8/site-packages/keras/src/engine/training.py:3000: UserWarning: You are saving your model as an HDF5 file via `model.save()`. This file format is considered legacy. We recommend using instead the native Keras format, e.g. `model.save('my_model.keras')`.\n",
      "  saving_api.save_model(\n"
     ]
    },
    {
     "name": "stdout",
     "output_type": "stream",
     "text": [
      "Test Loss: 0.4296, Test MAE: 0.5150\n"
     ]
    },
    {
     "name": "stderr",
     "output_type": "stream",
     "text": [
      "/home/mat2m10/.pyenv/versions/3.8.12/envs/pca_projection/lib/python3.8/site-packages/keras/src/engine/training.py:3000: UserWarning: You are saving your model as an HDF5 file via `model.save()`. This file format is considered legacy. We recommend using instead the native Keras format, e.g. `model.save('my_model.keras')`.\n",
      "  saving_api.save_model(\n"
     ]
    },
    {
     "name": "stdout",
     "output_type": "stream",
     "text": [
      "Test Loss: 0.4317, Test MAE: 0.5182\n"
     ]
    },
    {
     "name": "stderr",
     "output_type": "stream",
     "text": [
      "/home/mat2m10/.pyenv/versions/3.8.12/envs/pca_projection/lib/python3.8/site-packages/keras/src/engine/training.py:3000: UserWarning: You are saving your model as an HDF5 file via `model.save()`. This file format is considered legacy. We recommend using instead the native Keras format, e.g. `model.save('my_model.keras')`.\n",
      "  saving_api.save_model(\n"
     ]
    },
    {
     "name": "stdout",
     "output_type": "stream",
     "text": [
      "Test Loss: 0.2879, Test MAE: 0.4085\n"
     ]
    },
    {
     "name": "stderr",
     "output_type": "stream",
     "text": [
      "/home/mat2m10/.pyenv/versions/3.8.12/envs/pca_projection/lib/python3.8/site-packages/keras/src/engine/training.py:3000: UserWarning: You are saving your model as an HDF5 file via `model.save()`. This file format is considered legacy. We recommend using instead the native Keras format, e.g. `model.save('my_model.keras')`.\n",
      "  saving_api.save_model(\n"
     ]
    },
    {
     "name": "stdout",
     "output_type": "stream",
     "text": [
      "Test Loss: 0.4350, Test MAE: 0.5199\n"
     ]
    },
    {
     "name": "stderr",
     "output_type": "stream",
     "text": [
      "/home/mat2m10/.pyenv/versions/3.8.12/envs/pca_projection/lib/python3.8/site-packages/keras/src/engine/training.py:3000: UserWarning: You are saving your model as an HDF5 file via `model.save()`. This file format is considered legacy. We recommend using instead the native Keras format, e.g. `model.save('my_model.keras')`.\n",
      "  saving_api.save_model(\n"
     ]
    },
    {
     "name": "stdout",
     "output_type": "stream",
     "text": [
      "Test Loss: 0.4325, Test MAE: 0.5154\n"
     ]
    },
    {
     "name": "stderr",
     "output_type": "stream",
     "text": [
      "/home/mat2m10/.pyenv/versions/3.8.12/envs/pca_projection/lib/python3.8/site-packages/keras/src/engine/training.py:3000: UserWarning: You are saving your model as an HDF5 file via `model.save()`. This file format is considered legacy. We recommend using instead the native Keras format, e.g. `model.save('my_model.keras')`.\n",
      "  saving_api.save_model(\n"
     ]
    },
    {
     "name": "stdout",
     "output_type": "stream",
     "text": [
      "Test Loss: 0.4326, Test MAE: 0.5167\n"
     ]
    },
    {
     "name": "stderr",
     "output_type": "stream",
     "text": [
      "/home/mat2m10/.pyenv/versions/3.8.12/envs/pca_projection/lib/python3.8/site-packages/keras/src/engine/training.py:3000: UserWarning: You are saving your model as an HDF5 file via `model.save()`. This file format is considered legacy. We recommend using instead the native Keras format, e.g. `model.save('my_model.keras')`.\n",
      "  saving_api.save_model(\n"
     ]
    },
    {
     "name": "stdout",
     "output_type": "stream",
     "text": [
      "Test Loss: 0.4409, Test MAE: 0.5180\n"
     ]
    },
    {
     "name": "stderr",
     "output_type": "stream",
     "text": [
      "/home/mat2m10/.pyenv/versions/3.8.12/envs/pca_projection/lib/python3.8/site-packages/keras/src/engine/training.py:3000: UserWarning: You are saving your model as an HDF5 file via `model.save()`. This file format is considered legacy. We recommend using instead the native Keras format, e.g. `model.save('my_model.keras')`.\n",
      "  saving_api.save_model(\n"
     ]
    },
    {
     "name": "stdout",
     "output_type": "stream",
     "text": [
      "Test Loss: 0.4361, Test MAE: 0.5175\n"
     ]
    },
    {
     "name": "stderr",
     "output_type": "stream",
     "text": [
      "/home/mat2m10/.pyenv/versions/3.8.12/envs/pca_projection/lib/python3.8/site-packages/keras/src/engine/training.py:3000: UserWarning: You are saving your model as an HDF5 file via `model.save()`. This file format is considered legacy. We recommend using instead the native Keras format, e.g. `model.save('my_model.keras')`.\n",
      "  saving_api.save_model(\n"
     ]
    },
    {
     "name": "stdout",
     "output_type": "stream",
     "text": [
      "Test Loss: 0.4326, Test MAE: 0.5160\n"
     ]
    },
    {
     "name": "stderr",
     "output_type": "stream",
     "text": [
      "/home/mat2m10/.pyenv/versions/3.8.12/envs/pca_projection/lib/python3.8/site-packages/keras/src/engine/training.py:3000: UserWarning: You are saving your model as an HDF5 file via `model.save()`. This file format is considered legacy. We recommend using instead the native Keras format, e.g. `model.save('my_model.keras')`.\n",
      "  saving_api.save_model(\n"
     ]
    },
    {
     "name": "stdout",
     "output_type": "stream",
     "text": [
      "Test Loss: 0.4265, Test MAE: 0.5084\n"
     ]
    },
    {
     "name": "stderr",
     "output_type": "stream",
     "text": [
      "/home/mat2m10/.pyenv/versions/3.8.12/envs/pca_projection/lib/python3.8/site-packages/keras/src/engine/training.py:3000: UserWarning: You are saving your model as an HDF5 file via `model.save()`. This file format is considered legacy. We recommend using instead the native Keras format, e.g. `model.save('my_model.keras')`.\n",
      "  saving_api.save_model(\n"
     ]
    },
    {
     "name": "stdout",
     "output_type": "stream",
     "text": [
      "Test Loss: 0.4340, Test MAE: 0.5197\n"
     ]
    },
    {
     "name": "stderr",
     "output_type": "stream",
     "text": [
      "/home/mat2m10/.pyenv/versions/3.8.12/envs/pca_projection/lib/python3.8/site-packages/keras/src/engine/training.py:3000: UserWarning: You are saving your model as an HDF5 file via `model.save()`. This file format is considered legacy. We recommend using instead the native Keras format, e.g. `model.save('my_model.keras')`.\n",
      "  saving_api.save_model(\n"
     ]
    },
    {
     "name": "stdout",
     "output_type": "stream",
     "text": [
      "Test Loss: 0.4341, Test MAE: 0.5147\n"
     ]
    },
    {
     "name": "stderr",
     "output_type": "stream",
     "text": [
      "/home/mat2m10/.pyenv/versions/3.8.12/envs/pca_projection/lib/python3.8/site-packages/keras/src/engine/training.py:3000: UserWarning: You are saving your model as an HDF5 file via `model.save()`. This file format is considered legacy. We recommend using instead the native Keras format, e.g. `model.save('my_model.keras')`.\n",
      "  saving_api.save_model(\n"
     ]
    },
    {
     "name": "stdout",
     "output_type": "stream",
     "text": [
      "Test Loss: 0.4319, Test MAE: 0.5180\n"
     ]
    },
    {
     "name": "stderr",
     "output_type": "stream",
     "text": [
      "/home/mat2m10/.pyenv/versions/3.8.12/envs/pca_projection/lib/python3.8/site-packages/keras/src/engine/training.py:3000: UserWarning: You are saving your model as an HDF5 file via `model.save()`. This file format is considered legacy. We recommend using instead the native Keras format, e.g. `model.save('my_model.keras')`.\n",
      "  saving_api.save_model(\n"
     ]
    },
    {
     "name": "stdout",
     "output_type": "stream",
     "text": [
      "Test Loss: 0.4259, Test MAE: 0.5062\n"
     ]
    },
    {
     "name": "stderr",
     "output_type": "stream",
     "text": [
      "/home/mat2m10/.pyenv/versions/3.8.12/envs/pca_projection/lib/python3.8/site-packages/keras/src/engine/training.py:3000: UserWarning: You are saving your model as an HDF5 file via `model.save()`. This file format is considered legacy. We recommend using instead the native Keras format, e.g. `model.save('my_model.keras')`.\n",
      "  saving_api.save_model(\n"
     ]
    },
    {
     "name": "stdout",
     "output_type": "stream",
     "text": [
      "Test Loss: 0.4280, Test MAE: 0.5122\n"
     ]
    },
    {
     "name": "stderr",
     "output_type": "stream",
     "text": [
      "/home/mat2m10/.pyenv/versions/3.8.12/envs/pca_projection/lib/python3.8/site-packages/keras/src/engine/training.py:3000: UserWarning: You are saving your model as an HDF5 file via `model.save()`. This file format is considered legacy. We recommend using instead the native Keras format, e.g. `model.save('my_model.keras')`.\n",
      "  saving_api.save_model(\n"
     ]
    },
    {
     "name": "stdout",
     "output_type": "stream",
     "text": [
      "Test Loss: 0.4356, Test MAE: 0.5199\n"
     ]
    },
    {
     "name": "stderr",
     "output_type": "stream",
     "text": [
      "/home/mat2m10/.pyenv/versions/3.8.12/envs/pca_projection/lib/python3.8/site-packages/keras/src/engine/training.py:3000: UserWarning: You are saving your model as an HDF5 file via `model.save()`. This file format is considered legacy. We recommend using instead the native Keras format, e.g. `model.save('my_model.keras')`.\n",
      "  saving_api.save_model(\n"
     ]
    },
    {
     "name": "stdout",
     "output_type": "stream",
     "text": [
      "Test Loss: 0.4307, Test MAE: 0.5147\n"
     ]
    },
    {
     "name": "stderr",
     "output_type": "stream",
     "text": [
      "/home/mat2m10/.pyenv/versions/3.8.12/envs/pca_projection/lib/python3.8/site-packages/keras/src/engine/training.py:3000: UserWarning: You are saving your model as an HDF5 file via `model.save()`. This file format is considered legacy. We recommend using instead the native Keras format, e.g. `model.save('my_model.keras')`.\n",
      "  saving_api.save_model(\n"
     ]
    },
    {
     "name": "stdout",
     "output_type": "stream",
     "text": [
      "Test Loss: 0.4315, Test MAE: 0.5161\n"
     ]
    },
    {
     "name": "stderr",
     "output_type": "stream",
     "text": [
      "/home/mat2m10/.pyenv/versions/3.8.12/envs/pca_projection/lib/python3.8/site-packages/keras/src/engine/training.py:3000: UserWarning: You are saving your model as an HDF5 file via `model.save()`. This file format is considered legacy. We recommend using instead the native Keras format, e.g. `model.save('my_model.keras')`.\n",
      "  saving_api.save_model(\n"
     ]
    },
    {
     "name": "stdout",
     "output_type": "stream",
     "text": [
      "Test Loss: 0.4291, Test MAE: 0.5142\n"
     ]
    },
    {
     "name": "stderr",
     "output_type": "stream",
     "text": [
      "/home/mat2m10/.pyenv/versions/3.8.12/envs/pca_projection/lib/python3.8/site-packages/keras/src/engine/training.py:3000: UserWarning: You are saving your model as an HDF5 file via `model.save()`. This file format is considered legacy. We recommend using instead the native Keras format, e.g. `model.save('my_model.keras')`.\n",
      "  saving_api.save_model(\n"
     ]
    },
    {
     "name": "stdout",
     "output_type": "stream",
     "text": [
      "Test Loss: 0.2948, Test MAE: 0.4122\n"
     ]
    },
    {
     "name": "stderr",
     "output_type": "stream",
     "text": [
      "/home/mat2m10/.pyenv/versions/3.8.12/envs/pca_projection/lib/python3.8/site-packages/keras/src/engine/training.py:3000: UserWarning: You are saving your model as an HDF5 file via `model.save()`. This file format is considered legacy. We recommend using instead the native Keras format, e.g. `model.save('my_model.keras')`.\n",
      "  saving_api.save_model(\n"
     ]
    },
    {
     "name": "stdout",
     "output_type": "stream",
     "text": [
      "Test Loss: 0.4098, Test MAE: 0.4977\n",
      "Running iteration 2\n"
     ]
    },
    {
     "name": "stderr",
     "output_type": "stream",
     "text": [
      "/home/mat2m10/.pyenv/versions/3.8.12/envs/pca_projection/lib/python3.8/site-packages/keras/src/engine/training.py:3000: UserWarning: You are saving your model as an HDF5 file via `model.save()`. This file format is considered legacy. We recommend using instead the native Keras format, e.g. `model.save('my_model.keras')`.\n",
      "  saving_api.save_model(\n"
     ]
    },
    {
     "name": "stdout",
     "output_type": "stream",
     "text": [
      "Test Loss: 0.4283, Test MAE: 0.5178\n"
     ]
    },
    {
     "name": "stderr",
     "output_type": "stream",
     "text": [
      "/home/mat2m10/.pyenv/versions/3.8.12/envs/pca_projection/lib/python3.8/site-packages/keras/src/engine/training.py:3000: UserWarning: You are saving your model as an HDF5 file via `model.save()`. This file format is considered legacy. We recommend using instead the native Keras format, e.g. `model.save('my_model.keras')`.\n",
      "  saving_api.save_model(\n"
     ]
    },
    {
     "name": "stdout",
     "output_type": "stream",
     "text": [
      "Test Loss: 0.4256, Test MAE: 0.5135\n"
     ]
    },
    {
     "name": "stderr",
     "output_type": "stream",
     "text": [
      "/home/mat2m10/.pyenv/versions/3.8.12/envs/pca_projection/lib/python3.8/site-packages/keras/src/engine/training.py:3000: UserWarning: You are saving your model as an HDF5 file via `model.save()`. This file format is considered legacy. We recommend using instead the native Keras format, e.g. `model.save('my_model.keras')`.\n",
      "  saving_api.save_model(\n"
     ]
    },
    {
     "name": "stdout",
     "output_type": "stream",
     "text": [
      "Test Loss: 0.4280, Test MAE: 0.5168\n"
     ]
    },
    {
     "name": "stderr",
     "output_type": "stream",
     "text": [
      "/home/mat2m10/.pyenv/versions/3.8.12/envs/pca_projection/lib/python3.8/site-packages/keras/src/engine/training.py:3000: UserWarning: You are saving your model as an HDF5 file via `model.save()`. This file format is considered legacy. We recommend using instead the native Keras format, e.g. `model.save('my_model.keras')`.\n",
      "  saving_api.save_model(\n"
     ]
    },
    {
     "name": "stdout",
     "output_type": "stream",
     "text": [
      "Test Loss: 0.2848, Test MAE: 0.4058\n"
     ]
    },
    {
     "name": "stderr",
     "output_type": "stream",
     "text": [
      "/home/mat2m10/.pyenv/versions/3.8.12/envs/pca_projection/lib/python3.8/site-packages/keras/src/engine/training.py:3000: UserWarning: You are saving your model as an HDF5 file via `model.save()`. This file format is considered legacy. We recommend using instead the native Keras format, e.g. `model.save('my_model.keras')`.\n",
      "  saving_api.save_model(\n"
     ]
    },
    {
     "name": "stdout",
     "output_type": "stream",
     "text": [
      "Test Loss: 0.4310, Test MAE: 0.5193\n"
     ]
    },
    {
     "name": "stderr",
     "output_type": "stream",
     "text": [
      "/home/mat2m10/.pyenv/versions/3.8.12/envs/pca_projection/lib/python3.8/site-packages/keras/src/engine/training.py:3000: UserWarning: You are saving your model as an HDF5 file via `model.save()`. This file format is considered legacy. We recommend using instead the native Keras format, e.g. `model.save('my_model.keras')`.\n",
      "  saving_api.save_model(\n"
     ]
    },
    {
     "name": "stdout",
     "output_type": "stream",
     "text": [
      "Test Loss: 0.4283, Test MAE: 0.5166\n"
     ]
    },
    {
     "name": "stderr",
     "output_type": "stream",
     "text": [
      "/home/mat2m10/.pyenv/versions/3.8.12/envs/pca_projection/lib/python3.8/site-packages/keras/src/engine/training.py:3000: UserWarning: You are saving your model as an HDF5 file via `model.save()`. This file format is considered legacy. We recommend using instead the native Keras format, e.g. `model.save('my_model.keras')`.\n",
      "  saving_api.save_model(\n"
     ]
    },
    {
     "name": "stdout",
     "output_type": "stream",
     "text": [
      "Test Loss: 0.4284, Test MAE: 0.5163\n"
     ]
    },
    {
     "name": "stderr",
     "output_type": "stream",
     "text": [
      "/home/mat2m10/.pyenv/versions/3.8.12/envs/pca_projection/lib/python3.8/site-packages/keras/src/engine/training.py:3000: UserWarning: You are saving your model as an HDF5 file via `model.save()`. This file format is considered legacy. We recommend using instead the native Keras format, e.g. `model.save('my_model.keras')`.\n",
      "  saving_api.save_model(\n"
     ]
    },
    {
     "name": "stdout",
     "output_type": "stream",
     "text": [
      "Test Loss: 0.4323, Test MAE: 0.5177\n"
     ]
    },
    {
     "name": "stderr",
     "output_type": "stream",
     "text": [
      "/home/mat2m10/.pyenv/versions/3.8.12/envs/pca_projection/lib/python3.8/site-packages/keras/src/engine/training.py:3000: UserWarning: You are saving your model as an HDF5 file via `model.save()`. This file format is considered legacy. We recommend using instead the native Keras format, e.g. `model.save('my_model.keras')`.\n",
      "  saving_api.save_model(\n"
     ]
    },
    {
     "name": "stdout",
     "output_type": "stream",
     "text": [
      "Test Loss: 0.4304, Test MAE: 0.5187\n"
     ]
    },
    {
     "name": "stderr",
     "output_type": "stream",
     "text": [
      "/home/mat2m10/.pyenv/versions/3.8.12/envs/pca_projection/lib/python3.8/site-packages/keras/src/engine/training.py:3000: UserWarning: You are saving your model as an HDF5 file via `model.save()`. This file format is considered legacy. We recommend using instead the native Keras format, e.g. `model.save('my_model.keras')`.\n",
      "  saving_api.save_model(\n"
     ]
    },
    {
     "name": "stdout",
     "output_type": "stream",
     "text": [
      "Test Loss: 0.4276, Test MAE: 0.5158\n"
     ]
    },
    {
     "name": "stderr",
     "output_type": "stream",
     "text": [
      "/home/mat2m10/.pyenv/versions/3.8.12/envs/pca_projection/lib/python3.8/site-packages/keras/src/engine/training.py:3000: UserWarning: You are saving your model as an HDF5 file via `model.save()`. This file format is considered legacy. We recommend using instead the native Keras format, e.g. `model.save('my_model.keras')`.\n",
      "  saving_api.save_model(\n"
     ]
    },
    {
     "name": "stdout",
     "output_type": "stream",
     "text": [
      "Test Loss: 0.4209, Test MAE: 0.5109\n"
     ]
    },
    {
     "name": "stderr",
     "output_type": "stream",
     "text": [
      "/home/mat2m10/.pyenv/versions/3.8.12/envs/pca_projection/lib/python3.8/site-packages/keras/src/engine/training.py:3000: UserWarning: You are saving your model as an HDF5 file via `model.save()`. This file format is considered legacy. We recommend using instead the native Keras format, e.g. `model.save('my_model.keras')`.\n",
      "  saving_api.save_model(\n"
     ]
    },
    {
     "name": "stdout",
     "output_type": "stream",
     "text": [
      "Test Loss: 0.4296, Test MAE: 0.5194\n"
     ]
    },
    {
     "name": "stderr",
     "output_type": "stream",
     "text": [
      "/home/mat2m10/.pyenv/versions/3.8.12/envs/pca_projection/lib/python3.8/site-packages/keras/src/engine/training.py:3000: UserWarning: You are saving your model as an HDF5 file via `model.save()`. This file format is considered legacy. We recommend using instead the native Keras format, e.g. `model.save('my_model.keras')`.\n",
      "  saving_api.save_model(\n"
     ]
    },
    {
     "name": "stdout",
     "output_type": "stream",
     "text": [
      "Test Loss: 0.4255, Test MAE: 0.5136\n"
     ]
    },
    {
     "name": "stderr",
     "output_type": "stream",
     "text": [
      "/home/mat2m10/.pyenv/versions/3.8.12/envs/pca_projection/lib/python3.8/site-packages/keras/src/engine/training.py:3000: UserWarning: You are saving your model as an HDF5 file via `model.save()`. This file format is considered legacy. We recommend using instead the native Keras format, e.g. `model.save('my_model.keras')`.\n",
      "  saving_api.save_model(\n"
     ]
    },
    {
     "name": "stdout",
     "output_type": "stream",
     "text": [
      "Test Loss: 0.4228, Test MAE: 0.5159\n"
     ]
    },
    {
     "name": "stderr",
     "output_type": "stream",
     "text": [
      "/home/mat2m10/.pyenv/versions/3.8.12/envs/pca_projection/lib/python3.8/site-packages/keras/src/engine/training.py:3000: UserWarning: You are saving your model as an HDF5 file via `model.save()`. This file format is considered legacy. We recommend using instead the native Keras format, e.g. `model.save('my_model.keras')`.\n",
      "  saving_api.save_model(\n"
     ]
    },
    {
     "name": "stdout",
     "output_type": "stream",
     "text": [
      "Test Loss: 0.4174, Test MAE: 0.5062\n"
     ]
    },
    {
     "name": "stderr",
     "output_type": "stream",
     "text": [
      "/home/mat2m10/.pyenv/versions/3.8.12/envs/pca_projection/lib/python3.8/site-packages/keras/src/engine/training.py:3000: UserWarning: You are saving your model as an HDF5 file via `model.save()`. This file format is considered legacy. We recommend using instead the native Keras format, e.g. `model.save('my_model.keras')`.\n",
      "  saving_api.save_model(\n"
     ]
    },
    {
     "name": "stdout",
     "output_type": "stream",
     "text": [
      "Test Loss: 0.4212, Test MAE: 0.5118\n"
     ]
    },
    {
     "name": "stderr",
     "output_type": "stream",
     "text": [
      "/home/mat2m10/.pyenv/versions/3.8.12/envs/pca_projection/lib/python3.8/site-packages/keras/src/engine/training.py:3000: UserWarning: You are saving your model as an HDF5 file via `model.save()`. This file format is considered legacy. We recommend using instead the native Keras format, e.g. `model.save('my_model.keras')`.\n",
      "  saving_api.save_model(\n"
     ]
    },
    {
     "name": "stdout",
     "output_type": "stream",
     "text": [
      "Test Loss: 0.4302, Test MAE: 0.5196\n"
     ]
    },
    {
     "name": "stderr",
     "output_type": "stream",
     "text": [
      "/home/mat2m10/.pyenv/versions/3.8.12/envs/pca_projection/lib/python3.8/site-packages/keras/src/engine/training.py:3000: UserWarning: You are saving your model as an HDF5 file via `model.save()`. This file format is considered legacy. We recommend using instead the native Keras format, e.g. `model.save('my_model.keras')`.\n",
      "  saving_api.save_model(\n"
     ]
    },
    {
     "name": "stdout",
     "output_type": "stream",
     "text": [
      "Test Loss: 0.4264, Test MAE: 0.5147\n"
     ]
    },
    {
     "name": "stderr",
     "output_type": "stream",
     "text": [
      "/home/mat2m10/.pyenv/versions/3.8.12/envs/pca_projection/lib/python3.8/site-packages/keras/src/engine/training.py:3000: UserWarning: You are saving your model as an HDF5 file via `model.save()`. This file format is considered legacy. We recommend using instead the native Keras format, e.g. `model.save('my_model.keras')`.\n",
      "  saving_api.save_model(\n"
     ]
    },
    {
     "name": "stdout",
     "output_type": "stream",
     "text": [
      "Test Loss: 0.4248, Test MAE: 0.5161\n"
     ]
    },
    {
     "name": "stderr",
     "output_type": "stream",
     "text": [
      "/home/mat2m10/.pyenv/versions/3.8.12/envs/pca_projection/lib/python3.8/site-packages/keras/src/engine/training.py:3000: UserWarning: You are saving your model as an HDF5 file via `model.save()`. This file format is considered legacy. We recommend using instead the native Keras format, e.g. `model.save('my_model.keras')`.\n",
      "  saving_api.save_model(\n"
     ]
    },
    {
     "name": "stdout",
     "output_type": "stream",
     "text": [
      "Test Loss: 0.4227, Test MAE: 0.5138\n"
     ]
    },
    {
     "name": "stderr",
     "output_type": "stream",
     "text": [
      "/home/mat2m10/.pyenv/versions/3.8.12/envs/pca_projection/lib/python3.8/site-packages/keras/src/engine/training.py:3000: UserWarning: You are saving your model as an HDF5 file via `model.save()`. This file format is considered legacy. We recommend using instead the native Keras format, e.g. `model.save('my_model.keras')`.\n",
      "  saving_api.save_model(\n"
     ]
    },
    {
     "name": "stdout",
     "output_type": "stream",
     "text": [
      "Test Loss: 0.2908, Test MAE: 0.4114\n"
     ]
    },
    {
     "name": "stderr",
     "output_type": "stream",
     "text": [
      "/home/mat2m10/.pyenv/versions/3.8.12/envs/pca_projection/lib/python3.8/site-packages/keras/src/engine/training.py:3000: UserWarning: You are saving your model as an HDF5 file via `model.save()`. This file format is considered legacy. We recommend using instead the native Keras format, e.g. `model.save('my_model.keras')`.\n",
      "  saving_api.save_model(\n"
     ]
    },
    {
     "name": "stdout",
     "output_type": "stream",
     "text": [
      "Test Loss: 0.3998, Test MAE: 0.4962\n",
      "Running iteration 3\n"
     ]
    },
    {
     "name": "stderr",
     "output_type": "stream",
     "text": [
      "/home/mat2m10/.pyenv/versions/3.8.12/envs/pca_projection/lib/python3.8/site-packages/keras/src/engine/training.py:3000: UserWarning: You are saving your model as an HDF5 file via `model.save()`. This file format is considered legacy. We recommend using instead the native Keras format, e.g. `model.save('my_model.keras')`.\n",
      "  saving_api.save_model(\n"
     ]
    },
    {
     "name": "stdout",
     "output_type": "stream",
     "text": [
      "Test Loss: 0.4334, Test MAE: 0.5216\n"
     ]
    },
    {
     "name": "stderr",
     "output_type": "stream",
     "text": [
      "/home/mat2m10/.pyenv/versions/3.8.12/envs/pca_projection/lib/python3.8/site-packages/keras/src/engine/training.py:3000: UserWarning: You are saving your model as an HDF5 file via `model.save()`. This file format is considered legacy. We recommend using instead the native Keras format, e.g. `model.save('my_model.keras')`.\n",
      "  saving_api.save_model(\n"
     ]
    },
    {
     "name": "stdout",
     "output_type": "stream",
     "text": [
      "Test Loss: 0.4307, Test MAE: 0.5168\n"
     ]
    },
    {
     "name": "stderr",
     "output_type": "stream",
     "text": [
      "/home/mat2m10/.pyenv/versions/3.8.12/envs/pca_projection/lib/python3.8/site-packages/keras/src/engine/training.py:3000: UserWarning: You are saving your model as an HDF5 file via `model.save()`. This file format is considered legacy. We recommend using instead the native Keras format, e.g. `model.save('my_model.keras')`.\n",
      "  saving_api.save_model(\n"
     ]
    },
    {
     "name": "stdout",
     "output_type": "stream",
     "text": [
      "Test Loss: 0.4335, Test MAE: 0.5199\n"
     ]
    },
    {
     "name": "stderr",
     "output_type": "stream",
     "text": [
      "/home/mat2m10/.pyenv/versions/3.8.12/envs/pca_projection/lib/python3.8/site-packages/keras/src/engine/training.py:3000: UserWarning: You are saving your model as an HDF5 file via `model.save()`. This file format is considered legacy. We recommend using instead the native Keras format, e.g. `model.save('my_model.keras')`.\n",
      "  saving_api.save_model(\n"
     ]
    },
    {
     "name": "stdout",
     "output_type": "stream",
     "text": [
      "Test Loss: 0.2894, Test MAE: 0.4106\n"
     ]
    },
    {
     "name": "stderr",
     "output_type": "stream",
     "text": [
      "/home/mat2m10/.pyenv/versions/3.8.12/envs/pca_projection/lib/python3.8/site-packages/keras/src/engine/training.py:3000: UserWarning: You are saving your model as an HDF5 file via `model.save()`. This file format is considered legacy. We recommend using instead the native Keras format, e.g. `model.save('my_model.keras')`.\n",
      "  saving_api.save_model(\n"
     ]
    },
    {
     "name": "stdout",
     "output_type": "stream",
     "text": [
      "Test Loss: 0.4363, Test MAE: 0.5217\n"
     ]
    },
    {
     "name": "stderr",
     "output_type": "stream",
     "text": [
      "/home/mat2m10/.pyenv/versions/3.8.12/envs/pca_projection/lib/python3.8/site-packages/keras/src/engine/training.py:3000: UserWarning: You are saving your model as an HDF5 file via `model.save()`. This file format is considered legacy. We recommend using instead the native Keras format, e.g. `model.save('my_model.keras')`.\n",
      "  saving_api.save_model(\n"
     ]
    },
    {
     "name": "stdout",
     "output_type": "stream",
     "text": [
      "Test Loss: 0.4332, Test MAE: 0.5190\n"
     ]
    },
    {
     "name": "stderr",
     "output_type": "stream",
     "text": [
      "/home/mat2m10/.pyenv/versions/3.8.12/envs/pca_projection/lib/python3.8/site-packages/keras/src/engine/training.py:3000: UserWarning: You are saving your model as an HDF5 file via `model.save()`. This file format is considered legacy. We recommend using instead the native Keras format, e.g. `model.save('my_model.keras')`.\n",
      "  saving_api.save_model(\n"
     ]
    },
    {
     "name": "stdout",
     "output_type": "stream",
     "text": [
      "Test Loss: 0.4335, Test MAE: 0.5197\n"
     ]
    },
    {
     "name": "stderr",
     "output_type": "stream",
     "text": [
      "/home/mat2m10/.pyenv/versions/3.8.12/envs/pca_projection/lib/python3.8/site-packages/keras/src/engine/training.py:3000: UserWarning: You are saving your model as an HDF5 file via `model.save()`. This file format is considered legacy. We recommend using instead the native Keras format, e.g. `model.save('my_model.keras')`.\n",
      "  saving_api.save_model(\n"
     ]
    },
    {
     "name": "stdout",
     "output_type": "stream",
     "text": [
      "Test Loss: 0.4375, Test MAE: 0.5217\n"
     ]
    },
    {
     "name": "stderr",
     "output_type": "stream",
     "text": [
      "/home/mat2m10/.pyenv/versions/3.8.12/envs/pca_projection/lib/python3.8/site-packages/keras/src/engine/training.py:3000: UserWarning: You are saving your model as an HDF5 file via `model.save()`. This file format is considered legacy. We recommend using instead the native Keras format, e.g. `model.save('my_model.keras')`.\n",
      "  saving_api.save_model(\n"
     ]
    },
    {
     "name": "stdout",
     "output_type": "stream",
     "text": [
      "Test Loss: 0.4352, Test MAE: 0.5214\n"
     ]
    },
    {
     "name": "stderr",
     "output_type": "stream",
     "text": [
      "/home/mat2m10/.pyenv/versions/3.8.12/envs/pca_projection/lib/python3.8/site-packages/keras/src/engine/training.py:3000: UserWarning: You are saving your model as an HDF5 file via `model.save()`. This file format is considered legacy. We recommend using instead the native Keras format, e.g. `model.save('my_model.keras')`.\n",
      "  saving_api.save_model(\n"
     ]
    },
    {
     "name": "stdout",
     "output_type": "stream",
     "text": [
      "Test Loss: 0.4324, Test MAE: 0.5196\n"
     ]
    },
    {
     "name": "stderr",
     "output_type": "stream",
     "text": [
      "/home/mat2m10/.pyenv/versions/3.8.12/envs/pca_projection/lib/python3.8/site-packages/keras/src/engine/training.py:3000: UserWarning: You are saving your model as an HDF5 file via `model.save()`. This file format is considered legacy. We recommend using instead the native Keras format, e.g. `model.save('my_model.keras')`.\n",
      "  saving_api.save_model(\n"
     ]
    },
    {
     "name": "stdout",
     "output_type": "stream",
     "text": [
      "Test Loss: 0.4262, Test MAE: 0.5131\n"
     ]
    },
    {
     "name": "stderr",
     "output_type": "stream",
     "text": [
      "/home/mat2m10/.pyenv/versions/3.8.12/envs/pca_projection/lib/python3.8/site-packages/keras/src/engine/training.py:3000: UserWarning: You are saving your model as an HDF5 file via `model.save()`. This file format is considered legacy. We recommend using instead the native Keras format, e.g. `model.save('my_model.keras')`.\n",
      "  saving_api.save_model(\n"
     ]
    },
    {
     "name": "stdout",
     "output_type": "stream",
     "text": [
      "Test Loss: 0.4347, Test MAE: 0.5216\n"
     ]
    },
    {
     "name": "stderr",
     "output_type": "stream",
     "text": [
      "/home/mat2m10/.pyenv/versions/3.8.12/envs/pca_projection/lib/python3.8/site-packages/keras/src/engine/training.py:3000: UserWarning: You are saving your model as an HDF5 file via `model.save()`. This file format is considered legacy. We recommend using instead the native Keras format, e.g. `model.save('my_model.keras')`.\n",
      "  saving_api.save_model(\n"
     ]
    },
    {
     "name": "stdout",
     "output_type": "stream",
     "text": [
      "Test Loss: 0.4303, Test MAE: 0.5179\n"
     ]
    },
    {
     "name": "stderr",
     "output_type": "stream",
     "text": [
      "/home/mat2m10/.pyenv/versions/3.8.12/envs/pca_projection/lib/python3.8/site-packages/keras/src/engine/training.py:3000: UserWarning: You are saving your model as an HDF5 file via `model.save()`. This file format is considered legacy. We recommend using instead the native Keras format, e.g. `model.save('my_model.keras')`.\n",
      "  saving_api.save_model(\n"
     ]
    },
    {
     "name": "stdout",
     "output_type": "stream",
     "text": [
      "Test Loss: 0.4283, Test MAE: 0.5193\n"
     ]
    },
    {
     "name": "stderr",
     "output_type": "stream",
     "text": [
      "/home/mat2m10/.pyenv/versions/3.8.12/envs/pca_projection/lib/python3.8/site-packages/keras/src/engine/training.py:3000: UserWarning: You are saving your model as an HDF5 file via `model.save()`. This file format is considered legacy. We recommend using instead the native Keras format, e.g. `model.save('my_model.keras')`.\n",
      "  saving_api.save_model(\n"
     ]
    },
    {
     "name": "stdout",
     "output_type": "stream",
     "text": [
      "Test Loss: 0.4231, Test MAE: 0.5095\n"
     ]
    },
    {
     "name": "stderr",
     "output_type": "stream",
     "text": [
      "/home/mat2m10/.pyenv/versions/3.8.12/envs/pca_projection/lib/python3.8/site-packages/keras/src/engine/training.py:3000: UserWarning: You are saving your model as an HDF5 file via `model.save()`. This file format is considered legacy. We recommend using instead the native Keras format, e.g. `model.save('my_model.keras')`.\n",
      "  saving_api.save_model(\n"
     ]
    },
    {
     "name": "stdout",
     "output_type": "stream",
     "text": [
      "Test Loss: 0.4267, Test MAE: 0.5150\n"
     ]
    },
    {
     "name": "stderr",
     "output_type": "stream",
     "text": [
      "/home/mat2m10/.pyenv/versions/3.8.12/envs/pca_projection/lib/python3.8/site-packages/keras/src/engine/training.py:3000: UserWarning: You are saving your model as an HDF5 file via `model.save()`. This file format is considered legacy. We recommend using instead the native Keras format, e.g. `model.save('my_model.keras')`.\n",
      "  saving_api.save_model(\n"
     ]
    },
    {
     "name": "stdout",
     "output_type": "stream",
     "text": [
      "Test Loss: 0.4351, Test MAE: 0.5228\n"
     ]
    },
    {
     "name": "stderr",
     "output_type": "stream",
     "text": [
      "/home/mat2m10/.pyenv/versions/3.8.12/envs/pca_projection/lib/python3.8/site-packages/keras/src/engine/training.py:3000: UserWarning: You are saving your model as an HDF5 file via `model.save()`. This file format is considered legacy. We recommend using instead the native Keras format, e.g. `model.save('my_model.keras')`.\n",
      "  saving_api.save_model(\n"
     ]
    },
    {
     "name": "stdout",
     "output_type": "stream",
     "text": [
      "Test Loss: 0.4315, Test MAE: 0.5197\n"
     ]
    },
    {
     "name": "stderr",
     "output_type": "stream",
     "text": [
      "/home/mat2m10/.pyenv/versions/3.8.12/envs/pca_projection/lib/python3.8/site-packages/keras/src/engine/training.py:3000: UserWarning: You are saving your model as an HDF5 file via `model.save()`. This file format is considered legacy. We recommend using instead the native Keras format, e.g. `model.save('my_model.keras')`.\n",
      "  saving_api.save_model(\n"
     ]
    },
    {
     "name": "stdout",
     "output_type": "stream",
     "text": [
      "Test Loss: 0.4300, Test MAE: 0.5196\n"
     ]
    },
    {
     "name": "stderr",
     "output_type": "stream",
     "text": [
      "/home/mat2m10/.pyenv/versions/3.8.12/envs/pca_projection/lib/python3.8/site-packages/keras/src/engine/training.py:3000: UserWarning: You are saving your model as an HDF5 file via `model.save()`. This file format is considered legacy. We recommend using instead the native Keras format, e.g. `model.save('my_model.keras')`.\n",
      "  saving_api.save_model(\n"
     ]
    },
    {
     "name": "stdout",
     "output_type": "stream",
     "text": [
      "Test Loss: 0.4274, Test MAE: 0.5167\n"
     ]
    },
    {
     "name": "stderr",
     "output_type": "stream",
     "text": [
      "/home/mat2m10/.pyenv/versions/3.8.12/envs/pca_projection/lib/python3.8/site-packages/keras/src/engine/training.py:3000: UserWarning: You are saving your model as an HDF5 file via `model.save()`. This file format is considered legacy. We recommend using instead the native Keras format, e.g. `model.save('my_model.keras')`.\n",
      "  saving_api.save_model(\n"
     ]
    },
    {
     "name": "stdout",
     "output_type": "stream",
     "text": [
      "Test Loss: 0.2953, Test MAE: 0.4153\n"
     ]
    },
    {
     "name": "stderr",
     "output_type": "stream",
     "text": [
      "/home/mat2m10/.pyenv/versions/3.8.12/envs/pca_projection/lib/python3.8/site-packages/keras/src/engine/training.py:3000: UserWarning: You are saving your model as an HDF5 file via `model.save()`. This file format is considered legacy. We recommend using instead the native Keras format, e.g. `model.save('my_model.keras')`.\n",
      "  saving_api.save_model(\n"
     ]
    },
    {
     "name": "stdout",
     "output_type": "stream",
     "text": [
      "Test Loss: 0.4051, Test MAE: 0.4996\n",
      "Running iteration 4\n"
     ]
    },
    {
     "name": "stderr",
     "output_type": "stream",
     "text": [
      "/home/mat2m10/.pyenv/versions/3.8.12/envs/pca_projection/lib/python3.8/site-packages/keras/src/engine/training.py:3000: UserWarning: You are saving your model as an HDF5 file via `model.save()`. This file format is considered legacy. We recommend using instead the native Keras format, e.g. `model.save('my_model.keras')`.\n",
      "  saving_api.save_model(\n"
     ]
    },
    {
     "name": "stdout",
     "output_type": "stream",
     "text": [
      "Test Loss: 0.4399, Test MAE: 0.5232\n"
     ]
    },
    {
     "name": "stderr",
     "output_type": "stream",
     "text": [
      "/home/mat2m10/.pyenv/versions/3.8.12/envs/pca_projection/lib/python3.8/site-packages/keras/src/engine/training.py:3000: UserWarning: You are saving your model as an HDF5 file via `model.save()`. This file format is considered legacy. We recommend using instead the native Keras format, e.g. `model.save('my_model.keras')`.\n",
      "  saving_api.save_model(\n"
     ]
    },
    {
     "name": "stdout",
     "output_type": "stream",
     "text": [
      "Test Loss: 0.4374, Test MAE: 0.5172\n"
     ]
    },
    {
     "name": "stderr",
     "output_type": "stream",
     "text": [
      "/home/mat2m10/.pyenv/versions/3.8.12/envs/pca_projection/lib/python3.8/site-packages/keras/src/engine/training.py:3000: UserWarning: You are saving your model as an HDF5 file via `model.save()`. This file format is considered legacy. We recommend using instead the native Keras format, e.g. `model.save('my_model.keras')`.\n",
      "  saving_api.save_model(\n"
     ]
    },
    {
     "name": "stdout",
     "output_type": "stream",
     "text": [
      "Test Loss: 0.4401, Test MAE: 0.5208\n"
     ]
    },
    {
     "name": "stderr",
     "output_type": "stream",
     "text": [
      "/home/mat2m10/.pyenv/versions/3.8.12/envs/pca_projection/lib/python3.8/site-packages/keras/src/engine/training.py:3000: UserWarning: You are saving your model as an HDF5 file via `model.save()`. This file format is considered legacy. We recommend using instead the native Keras format, e.g. `model.save('my_model.keras')`.\n",
      "  saving_api.save_model(\n"
     ]
    },
    {
     "name": "stdout",
     "output_type": "stream",
     "text": [
      "Test Loss: 0.2968, Test MAE: 0.4160\n"
     ]
    },
    {
     "name": "stderr",
     "output_type": "stream",
     "text": [
      "/home/mat2m10/.pyenv/versions/3.8.12/envs/pca_projection/lib/python3.8/site-packages/keras/src/engine/training.py:3000: UserWarning: You are saving your model as an HDF5 file via `model.save()`. This file format is considered legacy. We recommend using instead the native Keras format, e.g. `model.save('my_model.keras')`.\n",
      "  saving_api.save_model(\n"
     ]
    },
    {
     "name": "stdout",
     "output_type": "stream",
     "text": [
      "Test Loss: 0.4432, Test MAE: 0.5219\n"
     ]
    },
    {
     "name": "stderr",
     "output_type": "stream",
     "text": [
      "/home/mat2m10/.pyenv/versions/3.8.12/envs/pca_projection/lib/python3.8/site-packages/keras/src/engine/training.py:3000: UserWarning: You are saving your model as an HDF5 file via `model.save()`. This file format is considered legacy. We recommend using instead the native Keras format, e.g. `model.save('my_model.keras')`.\n",
      "  saving_api.save_model(\n"
     ]
    },
    {
     "name": "stdout",
     "output_type": "stream",
     "text": [
      "Test Loss: 0.4400, Test MAE: 0.5202\n"
     ]
    },
    {
     "name": "stderr",
     "output_type": "stream",
     "text": [
      "/home/mat2m10/.pyenv/versions/3.8.12/envs/pca_projection/lib/python3.8/site-packages/keras/src/engine/training.py:3000: UserWarning: You are saving your model as an HDF5 file via `model.save()`. This file format is considered legacy. We recommend using instead the native Keras format, e.g. `model.save('my_model.keras')`.\n",
      "  saving_api.save_model(\n"
     ]
    },
    {
     "name": "stdout",
     "output_type": "stream",
     "text": [
      "Test Loss: 0.4406, Test MAE: 0.5216\n"
     ]
    },
    {
     "name": "stderr",
     "output_type": "stream",
     "text": [
      "/home/mat2m10/.pyenv/versions/3.8.12/envs/pca_projection/lib/python3.8/site-packages/keras/src/engine/training.py:3000: UserWarning: You are saving your model as an HDF5 file via `model.save()`. This file format is considered legacy. We recommend using instead the native Keras format, e.g. `model.save('my_model.keras')`.\n",
      "  saving_api.save_model(\n"
     ]
    },
    {
     "name": "stdout",
     "output_type": "stream",
     "text": [
      "Test Loss: 0.4442, Test MAE: 0.5209\n"
     ]
    },
    {
     "name": "stderr",
     "output_type": "stream",
     "text": [
      "/home/mat2m10/.pyenv/versions/3.8.12/envs/pca_projection/lib/python3.8/site-packages/keras/src/engine/training.py:3000: UserWarning: You are saving your model as an HDF5 file via `model.save()`. This file format is considered legacy. We recommend using instead the native Keras format, e.g. `model.save('my_model.keras')`.\n",
      "  saving_api.save_model(\n"
     ]
    },
    {
     "name": "stdout",
     "output_type": "stream",
     "text": [
      "Test Loss: 0.4419, Test MAE: 0.5214\n"
     ]
    },
    {
     "name": "stderr",
     "output_type": "stream",
     "text": [
      "/home/mat2m10/.pyenv/versions/3.8.12/envs/pca_projection/lib/python3.8/site-packages/keras/src/engine/training.py:3000: UserWarning: You are saving your model as an HDF5 file via `model.save()`. This file format is considered legacy. We recommend using instead the native Keras format, e.g. `model.save('my_model.keras')`.\n",
      "  saving_api.save_model(\n"
     ]
    },
    {
     "name": "stdout",
     "output_type": "stream",
     "text": [
      "Test Loss: 0.4395, Test MAE: 0.5200\n"
     ]
    },
    {
     "name": "stderr",
     "output_type": "stream",
     "text": [
      "/home/mat2m10/.pyenv/versions/3.8.12/envs/pca_projection/lib/python3.8/site-packages/keras/src/engine/training.py:3000: UserWarning: You are saving your model as an HDF5 file via `model.save()`. This file format is considered legacy. We recommend using instead the native Keras format, e.g. `model.save('my_model.keras')`.\n",
      "  saving_api.save_model(\n"
     ]
    },
    {
     "name": "stdout",
     "output_type": "stream",
     "text": [
      "Test Loss: 0.4331, Test MAE: 0.5157\n"
     ]
    },
    {
     "name": "stderr",
     "output_type": "stream",
     "text": [
      "/home/mat2m10/.pyenv/versions/3.8.12/envs/pca_projection/lib/python3.8/site-packages/keras/src/engine/training.py:3000: UserWarning: You are saving your model as an HDF5 file via `model.save()`. This file format is considered legacy. We recommend using instead the native Keras format, e.g. `model.save('my_model.keras')`.\n",
      "  saving_api.save_model(\n"
     ]
    },
    {
     "name": "stdout",
     "output_type": "stream",
     "text": [
      "Test Loss: 0.4414, Test MAE: 0.5230\n"
     ]
    },
    {
     "name": "stderr",
     "output_type": "stream",
     "text": [
      "/home/mat2m10/.pyenv/versions/3.8.12/envs/pca_projection/lib/python3.8/site-packages/keras/src/engine/training.py:3000: UserWarning: You are saving your model as an HDF5 file via `model.save()`. This file format is considered legacy. We recommend using instead the native Keras format, e.g. `model.save('my_model.keras')`.\n",
      "  saving_api.save_model(\n"
     ]
    },
    {
     "name": "stdout",
     "output_type": "stream",
     "text": [
      "Test Loss: 0.4380, Test MAE: 0.5184\n"
     ]
    },
    {
     "name": "stderr",
     "output_type": "stream",
     "text": [
      "/home/mat2m10/.pyenv/versions/3.8.12/envs/pca_projection/lib/python3.8/site-packages/keras/src/engine/training.py:3000: UserWarning: You are saving your model as an HDF5 file via `model.save()`. This file format is considered legacy. We recommend using instead the native Keras format, e.g. `model.save('my_model.keras')`.\n",
      "  saving_api.save_model(\n"
     ]
    },
    {
     "name": "stdout",
     "output_type": "stream",
     "text": [
      "Test Loss: 0.4361, Test MAE: 0.5204\n"
     ]
    },
    {
     "name": "stderr",
     "output_type": "stream",
     "text": [
      "/home/mat2m10/.pyenv/versions/3.8.12/envs/pca_projection/lib/python3.8/site-packages/keras/src/engine/training.py:3000: UserWarning: You are saving your model as an HDF5 file via `model.save()`. This file format is considered legacy. We recommend using instead the native Keras format, e.g. `model.save('my_model.keras')`.\n",
      "  saving_api.save_model(\n"
     ]
    },
    {
     "name": "stdout",
     "output_type": "stream",
     "text": [
      "Test Loss: 0.4297, Test MAE: 0.5097\n"
     ]
    },
    {
     "name": "stderr",
     "output_type": "stream",
     "text": [
      "/home/mat2m10/.pyenv/versions/3.8.12/envs/pca_projection/lib/python3.8/site-packages/keras/src/engine/training.py:3000: UserWarning: You are saving your model as an HDF5 file via `model.save()`. This file format is considered legacy. We recommend using instead the native Keras format, e.g. `model.save('my_model.keras')`.\n",
      "  saving_api.save_model(\n"
     ]
    },
    {
     "name": "stdout",
     "output_type": "stream",
     "text": [
      "Test Loss: 0.4334, Test MAE: 0.5167\n"
     ]
    },
    {
     "name": "stderr",
     "output_type": "stream",
     "text": [
      "/home/mat2m10/.pyenv/versions/3.8.12/envs/pca_projection/lib/python3.8/site-packages/keras/src/engine/training.py:3000: UserWarning: You are saving your model as an HDF5 file via `model.save()`. This file format is considered legacy. We recommend using instead the native Keras format, e.g. `model.save('my_model.keras')`.\n",
      "  saving_api.save_model(\n"
     ]
    },
    {
     "name": "stdout",
     "output_type": "stream",
     "text": [
      "Test Loss: 0.4429, Test MAE: 0.5244\n"
     ]
    },
    {
     "name": "stderr",
     "output_type": "stream",
     "text": [
      "/home/mat2m10/.pyenv/versions/3.8.12/envs/pca_projection/lib/python3.8/site-packages/keras/src/engine/training.py:3000: UserWarning: You are saving your model as an HDF5 file via `model.save()`. This file format is considered legacy. We recommend using instead the native Keras format, e.g. `model.save('my_model.keras')`.\n",
      "  saving_api.save_model(\n"
     ]
    },
    {
     "name": "stdout",
     "output_type": "stream",
     "text": [
      "Test Loss: 0.4387, Test MAE: 0.5195\n"
     ]
    },
    {
     "name": "stderr",
     "output_type": "stream",
     "text": [
      "/home/mat2m10/.pyenv/versions/3.8.12/envs/pca_projection/lib/python3.8/site-packages/keras/src/engine/training.py:3000: UserWarning: You are saving your model as an HDF5 file via `model.save()`. This file format is considered legacy. We recommend using instead the native Keras format, e.g. `model.save('my_model.keras')`.\n",
      "  saving_api.save_model(\n"
     ]
    },
    {
     "name": "stdout",
     "output_type": "stream",
     "text": [
      "Test Loss: 0.4366, Test MAE: 0.5200\n"
     ]
    },
    {
     "name": "stderr",
     "output_type": "stream",
     "text": [
      "/home/mat2m10/.pyenv/versions/3.8.12/envs/pca_projection/lib/python3.8/site-packages/keras/src/engine/training.py:3000: UserWarning: You are saving your model as an HDF5 file via `model.save()`. This file format is considered legacy. We recommend using instead the native Keras format, e.g. `model.save('my_model.keras')`.\n",
      "  saving_api.save_model(\n"
     ]
    },
    {
     "name": "stdout",
     "output_type": "stream",
     "text": [
      "Test Loss: 0.4350, Test MAE: 0.5194\n"
     ]
    },
    {
     "name": "stderr",
     "output_type": "stream",
     "text": [
      "/home/mat2m10/.pyenv/versions/3.8.12/envs/pca_projection/lib/python3.8/site-packages/keras/src/engine/training.py:3000: UserWarning: You are saving your model as an HDF5 file via `model.save()`. This file format is considered legacy. We recommend using instead the native Keras format, e.g. `model.save('my_model.keras')`.\n",
      "  saving_api.save_model(\n"
     ]
    },
    {
     "name": "stdout",
     "output_type": "stream",
     "text": [
      "Test Loss: 0.3033, Test MAE: 0.4235\n"
     ]
    },
    {
     "name": "stderr",
     "output_type": "stream",
     "text": [
      "/home/mat2m10/.pyenv/versions/3.8.12/envs/pca_projection/lib/python3.8/site-packages/keras/src/engine/training.py:3000: UserWarning: You are saving your model as an HDF5 file via `model.save()`. This file format is considered legacy. We recommend using instead the native Keras format, e.g. `model.save('my_model.keras')`.\n",
      "  saving_api.save_model(\n"
     ]
    },
    {
     "name": "stdout",
     "output_type": "stream",
     "text": [
      "Test Loss: 0.4135, Test MAE: 0.5030\n"
     ]
    },
    {
     "name": "stderr",
     "output_type": "stream",
     "text": [
      "/home/mat2m10/.pyenv/versions/3.8.12/envs/pca_projection/lib/python3.8/site-packages/keras/src/engine/training.py:3000: UserWarning: You are saving your model as an HDF5 file via `model.save()`. This file format is considered legacy. We recommend using instead the native Keras format, e.g. `model.save('my_model.keras')`.\n",
      "  saving_api.save_model(\n"
     ]
    }
   ],
   "source": [
    "iterations = [f for f in os.listdir(f\"{CONFIG['PATH_data']}\") if f.startswith('iteration')]\n",
    "iterations.sort()\n",
    "for iteration in iterations:\n",
    "    path_iteration = f\"{CONFIG['PATH_data']}/{iteration}\"\n",
    "    iteration_nr = int(iteration.split('_')[1])\n",
    "    print(f\"Running iteration {iteration_nr}\")\n",
    "    path_iteration = f\"{CONFIG['PATH_data']}/{iteration}/\"\n",
    "    decoders = []\n",
    "    for i in range(iteration_nr):\n",
    "        i += 1\n",
    "        if i == iteration_nr:\n",
    "            pass\n",
    "        else:\n",
    "            # do stuff\n",
    "            pass\n",
    "    \n",
    "    dim = pd.read_pickle(f\"{path_iteration}/concated_one_hot_dims.pkl\")\n",
    "    # train decoder iteration i with chunk\n",
    "    chroms = [f for f in os.listdir(f\"{CONFIG['PATH_data']}/03_macro_similar_AF\") if f.startswith('chrom')]\n",
    "    for chrom in chroms:\n",
    "        path_chrom = f\"{CONFIG['PATH_data']}/03_macro_similar_AF/{chrom}\"\n",
    "        path_output_chrom = f\"{path_iteration}/models/{chrom}\"\n",
    "        os.makedirs(path_output_chrom, exist_ok=True)\n",
    "        chunks = [f for f in os.listdir(path_chrom) if f.startswith('chunk')]\n",
    "        for chunk in chunks:\n",
    "            path_chunk = f\"{path_chrom}/{chunk}\"\n",
    "            chunk_df = pd.read_pickle(path_chunk)\n",
    "            decoder_temp, decoder_history =  decoder(dim, chunk_df, 1, 100, 10)\n",
    "            # Save the full model\n",
    "            decoder_temp.save(f\"{path_iteration}/models/{chrom}/decoder_model_{chunk.split('.pkl')[0]}.h5\")"
   ]
  },
  {
   "cell_type": "code",
   "execution_count": null,
   "metadata": {},
   "outputs": [],
   "source": []
  },
  {
   "cell_type": "code",
   "execution_count": null,
   "metadata": {},
   "outputs": [],
   "source": [
    "# 1\n",
    "# central-chunk\n",
    "# 2\n",
    "# central-dim_it_0 + dim_it_0-chunk\n",
    "# metamodel(central-dim_it_0 + dim_it_0-chunk)\n",
    "# 3\n",
    "# central-dim_it_0 + dim_it_0-dim_it_1 + dim_it_1-chunk\n",
    "# metamodel(central-dim_it_0 + dim_it_0-dim_it_1 + dim_it_1-chunk)\n",
    "# 4\n"
   ]
  },
  {
   "cell_type": "code",
   "execution_count": null,
   "metadata": {},
   "outputs": [],
   "source": []
  },
  {
   "cell_type": "code",
   "execution_count": null,
   "metadata": {},
   "outputs": [
    {
     "name": "stdout",
     "output_type": "stream",
     "text": [
      "Test Loss: 0.4043, Test MAE: 0.4957\n"
     ]
    }
   ],
   "source": []
  },
  {
   "cell_type": "code",
   "execution_count": null,
   "metadata": {},
   "outputs": [
    {
     "data": {
      "image/png": "[encoded data removed]",
      "text/plain": [
       "<Figure size 1000x600 with 1 Axes>"
      ]
     },
     "metadata": {},
     "output_type": "display_data"
    }
   ],
   "source": [
    "# Call the plotting function\n",
    "plot_training_history(decoder0_history)\n"
   ]
  },
  {
   "cell_type": "code",
   "execution_count": null,
   "metadata": {},
   "outputs": [],
   "source": []
  },
  {
   "cell_type": "code",
   "execution_count": 71,
   "metadata": {},
   "outputs": [
    {
     "name": "stdout",
     "output_type": "stream",
     "text": [
      "79/79 [==============================] - 0s 1ms/step\n"
     ]
    }
   ],
   "source": [
    "first_output = decoder0.predict(central_dim[['center_dim']].to_numpy())"
   ]
  },
  {
   "cell_type": "code",
   "execution_count": 72,
   "metadata": {},
   "outputs": [
    {
     "data": {
      "text/plain": [
       "array([[ 0.24080166, -0.08128047, -0.13828506, ...,  0.8367161 ,\n",
       "         0.8596971 ,  0.84175   ],\n",
       "       [-0.07307991, -0.1188411 , -0.11011967, ...,  0.90755385,\n",
       "         0.87180114,  0.9070927 ],\n",
       "       [ 0.34354752, -0.06867485, -0.14733961, ...,  0.81387407,\n",
       "         0.85603344,  0.8205463 ],\n",
       "       ...,\n",
       "       [-0.1017352 , -0.12042259, -0.10518934, ...,  0.91458935,\n",
       "         0.87381184,  0.9133135 ],\n",
       "       [-0.09154186, -0.12051181, -0.10808305, ...,  0.9122803 ,\n",
       "         0.87288177,  0.9112802 ],\n",
       "       [-0.078088  , -0.11930791, -0.10959221, ...,  0.90882355,\n",
       "         0.8720771 ,  0.9082135 ]], dtype=float32)"
      ]
     },
     "execution_count": 72,
     "metadata": {},
     "output_type": "execute_result"
    }
   ],
   "source": [
    "first_output"
   ]
  },
  {
   "cell_type": "markdown",
   "metadata": {},
   "source": [
    "# first iteration"
   ]
  },
  {
   "cell_type": "code",
   "execution_count": 101,
   "metadata": {},
   "outputs": [],
   "source": [
    "path_data = f\"{CONFIG['PATH_data']}/\"\n",
    "nr_it = 0\n",
    "iteration = [f for f in os.listdir(path_data) if f.startswith(f\"iteration_{nr_it}\")][0]\n",
    "path_iteration = f\"{path_data}/{iteration}/\"\n",
    "ids = pd.read_pickle(f\"{path_iteration}/ids.pkl\")\n",
    "dims_dfs = []\n",
    "for pop in [f for f in os.listdir(path_iteration) if f.startswith('pop')]:\n",
    "    pop = pop.split('pop_')[1]\n",
    "    temp_ids = ids[ids[f\"cluster_{iteration.split('_')[1]}\"] == pop]\n",
    "    path_pop = f\"{path_iteration}/pop_{pop}/\"\n",
    "    dims = [f for f in os.listdir(path_pop) if f.startswith('PCs')]\n",
    "    \n",
    "    nr_PCs = 3\n",
    "    PCs_labels = []\n",
    "    for i in range(nr_PCs):\n",
    "        PCs_labels.append(f\"PC{i+1}\")\n",
    "\n",
    "    dims_df = pd.DataFrame()\n",
    "    for dim  in dims:\n",
    "        path_dim = f\"{path_pop}/{dim}\"\n",
    "        dim = dim.split('PCs_')[1].split('.pkl')[0]\n",
    "        \n",
    "        PCs = pd.read_pickle(path_dim)\n",
    "        for label in PCs_labels:\n",
    "            PCs.rename(columns={f\"{label}\": f\"pop_{pop}_{label}_dim_{dim}\"}, inplace=True)\n",
    "            dims_df[f\"pop_{pop}_{label}_dim_{dim}\"] = list(PCs[f\"pop_{pop}_{label}_dim_{dim}\"])\n",
    "    dims_df.index = temp_ids.index\n",
    "    dims_dfs.append(dims_df)\n",
    "        \n",
    "\n",
    "# Concatenate DataFrames, filling missing columns with NaN\n",
    "dims_dfs = pd.concat(dims_dfs, ignore_index=False, sort=True)\n",
    "dims_dfs_2 = dims_dfs.fillna(0)"
   ]
  },
  {
   "cell_type": "code",
   "execution_count": null,
   "metadata": {},
   "outputs": [
    {
     "name": "stdout",
     "output_type": "stream",
     "text": [
      "Test Loss: 65.7184, Test MAE: 5.4831\n"
     ]
    }
   ],
   "source": [
    "decoder1_in, decoder1_in_history =  decoder(central_dim[['center_dim']], dims_dfs_2, 1, 1000, 10)"
   ]
  },
  {
   "cell_type": "code",
   "execution_count": 61,
   "metadata": {},
   "outputs": [
    {
     "data": {
      "image/png": "[encoded data removed]",
      "text/plain": [
       "<Figure size 1000x600 with 1 Axes>"
      ]
     },
     "metadata": {},
     "output_type": "display_data"
    }
   ],
   "source": [
    "import matplotlib.pyplot as plt\n",
    "\n",
    "def plot_training_history(history):\n",
    "    plt.figure(figsize=(10, 6))\n",
    "    \n",
    "    # Extract loss values\n",
    "    loss = history.history['loss']\n",
    "    val_loss = history.history.get('val_loss', None)  # Use get() in case val_loss is missing\n",
    "    \n",
    "    epochs = range(1, len(loss) + 1)\n",
    "\n",
    "    # Plot Training Loss\n",
    "    plt.plot(epochs, loss, 'bo-', label='Training Loss')\n",
    "\n",
    "    # Plot Validation Loss if available\n",
    "    if val_loss:\n",
    "        plt.plot(epochs, val_loss, 'ro-', label='Validation Loss')\n",
    "\n",
    "    plt.title('Training and Validation Loss')\n",
    "    plt.xlabel('Epochs')\n",
    "    plt.ylabel('Loss')\n",
    "    plt.legend()\n",
    "    plt.show()\n",
    "\n",
    "# Call the plotting function\n",
    "plot_training_history(decoder1_in_history)\n"
   ]
  },
  {
   "cell_type": "code",
   "execution_count": null,
   "metadata": {},
   "outputs": [],
   "source": []
  },
  {
   "cell_type": "code",
   "execution_count": null,
   "metadata": {},
   "outputs": [
    {
     "name": "stdout",
     "output_type": "stream",
     "text": [
      "Test Loss: 0.4045, Test MAE: 0.5003\n"
     ]
    }
   ],
   "source": [
    "decoder1_in, decoder1_in_history =  decoder(central_dim[['center_dim']], dims_dfs_2, 1, 1000, 10)\n",
    "decoder2_in, decoder2_in_history =  decoder(dims_dfs_2, chunk, 1, 1000, 10)\n"
   ]
  },
  {
   "cell_type": "code",
   "execution_count": 63,
   "metadata": {},
   "outputs": [],
   "source": [
    "from keras.models import Model\n",
    "from keras.layers import Input\n",
    "\n",
    "def create_meta_decoder(decoder1, decoder2):\n",
    "    # Step 1: Define the input based on decoder1's input shape\n",
    "    input_layer = Input(shape=(decoder1.input_shape[1],))\n",
    "\n",
    "    # Step 2: Pass through the first decoder\n",
    "    x = decoder1(input_layer)\n",
    "\n",
    "    # Step 3: Pass through the second decoder\n",
    "    output_layer = decoder2(x)\n",
    "\n",
    "    # Step 4: Create the combined model\n",
    "    meta_decoder = Model(inputs=input_layer, outputs=output_layer)\n",
    "\n",
    "    return meta_decoder\n"
   ]
  },
  {
   "cell_type": "code",
   "execution_count": 64,
   "metadata": {},
   "outputs": [
    {
     "name": "stdout",
     "output_type": "stream",
     "text": [
      "Model: \"model_10\"\n",
      "_________________________________________________________________\n",
      " Layer (type)                Output Shape              Param #   \n",
      "=================================================================\n",
      " input_11 (InputLayer)       [(None, 1)]               0         \n",
      "                                                                 \n",
      " model_8 (Functional)        (None, 9)                 64        \n",
      "                                                                 \n",
      " model_9 (Functional)        (None, 507)               133893    \n",
      "                                                                 \n",
      "=================================================================\n",
      "Total params: 133957 (523.27 KB)\n",
      "Trainable params: 133957 (523.27 KB)\n",
      "Non-trainable params: 0 (0.00 Byte)\n",
      "_________________________________________________________________\n"
     ]
    }
   ],
   "source": [
    "# Create the meta-decoder\n",
    "meta_decoder = create_meta_decoder(decoder1_in, decoder2_in)\n",
    "\n",
    "# Ensure all layers are trainable\n",
    "for layer in meta_decoder.layers:\n",
    "    layer.trainable = True\n",
    "\n",
    "# Compile the meta-decoder\n",
    "meta_decoder.compile(optimizer='adam', loss='mean_squared_error', metrics=['mae'])\n",
    "\n",
    "# Check structure and number of trainable parameters\n",
    "meta_decoder.summary()"
   ]
  },
  {
   "cell_type": "code",
   "execution_count": 67,
   "metadata": {},
   "outputs": [],
   "source": [
    "history = meta_decoder.fit(\n",
    "    central_dim[['center_dim']].to_numpy(), \n",
    "    chunk.to_numpy(), \n",
    "    epochs=1000, \n",
    "    validation_split=0.2, \n",
    "    callbacks=[tf.keras.callbacks.EarlyStopping(monitor='val_loss', patience=100)],\n",
    "    verbose=0\n",
    ")"
   ]
  },
  {
   "cell_type": "code",
   "execution_count": 68,
   "metadata": {},
   "outputs": [
    {
     "data": {
      "image/png": "[encoded data removed]",
      "text/plain": [
       "<Figure size 1000x500 with 1 Axes>"
      ]
     },
     "metadata": {},
     "output_type": "display_data"
    }
   ],
   "source": [
    "import matplotlib.pyplot as plt\n",
    "\n",
    "# Plot loss during fine-tuning\n",
    "plt.figure(figsize=(10, 5))\n",
    "plt.plot(history.history['loss'], label='Training Loss')\n",
    "plt.plot(history.history['val_loss'], label='Validation Loss')\n",
    "plt.title('Meta-Decoder Training and Validation Loss')\n",
    "plt.xlabel('Epochs')\n",
    "plt.ylabel('Loss')\n",
    "plt.legend()\n",
    "plt.show()\n"
   ]
  },
  {
   "cell_type": "code",
   "execution_count": 69,
   "metadata": {},
   "outputs": [
    {
     "name": "stdout",
     "output_type": "stream",
     "text": [
      "79/79 [==============================] - 0s 2ms/step\n"
     ]
    }
   ],
   "source": [
    "meta_output = meta_decoder.predict(central_dim[['center_dim']].to_numpy())\n"
   ]
  },
  {
   "cell_type": "code",
   "execution_count": 77,
   "metadata": {},
   "outputs": [],
   "source": [
    "meta_output = pd.DataFrame(meta_output, columns=chunk.columns)\n",
    "first_output = pd.DataFrame(first_output, columns=chunk.columns)"
   ]
  },
  {
   "cell_type": "code",
   "execution_count": 87,
   "metadata": {},
   "outputs": [],
   "source": [
    "col_test = list(chunk.columns)[-1]"
   ]
  },
  {
   "cell_type": "code",
   "execution_count": 91,
   "metadata": {},
   "outputs": [
    {
     "name": "stderr",
     "output_type": "stream",
     "text": [
      "/tmp/ipykernel_4824/1078557130.py:2: SettingWithCopyWarning: \n",
      "A value is trying to be set on a copy of a slice from a DataFrame.\n",
      "Try using .loc[row_indexer,col_indexer] = value instead\n",
      "\n",
      "See the caveats in the documentation: https://pandas.pydata.org/pandas-docs/stable/user_guide/indexing.html#returning-a-view-versus-a-copy\n",
      "  test1['pop'] = list(ids['FID'])\n",
      "/tmp/ipykernel_4824/1078557130.py:3: SettingWithCopyWarning: \n",
      "A value is trying to be set on a copy of a slice from a DataFrame.\n",
      "Try using .loc[row_indexer,col_indexer] = value instead\n",
      "\n",
      "See the caveats in the documentation: https://pandas.pydata.org/pandas-docs/stable/user_guide/indexing.html#returning-a-view-versus-a-copy\n",
      "  test1['humans'] = list(central_dim['center_dim'])\n",
      "/tmp/ipykernel_4824/1078557130.py:5: SettingWithCopyWarning: \n",
      "A value is trying to be set on a copy of a slice from a DataFrame.\n",
      "Try using .loc[row_indexer,col_indexer] = value instead\n",
      "\n",
      "See the caveats in the documentation: https://pandas.pydata.org/pandas-docs/stable/user_guide/indexing.html#returning-a-view-versus-a-copy\n",
      "  test2['pop'] = list(ids['FID'])\n",
      "/tmp/ipykernel_4824/1078557130.py:6: SettingWithCopyWarning: \n",
      "A value is trying to be set on a copy of a slice from a DataFrame.\n",
      "Try using .loc[row_indexer,col_indexer] = value instead\n",
      "\n",
      "See the caveats in the documentation: https://pandas.pydata.org/pandas-docs/stable/user_guide/indexing.html#returning-a-view-versus-a-copy\n",
      "  test2['humans'] = list(central_dim['center_dim'])\n"
     ]
    }
   ],
   "source": [
    "test1 = first_output[[col_test]]\n",
    "test1['pop'] = list(ids['FID'])\n",
    "test1['humans'] = list(central_dim['center_dim'])\n",
    "test2 = meta_output[[col_test]]\n",
    "test2['pop'] = list(ids['FID'])\n",
    "test2['humans'] = list(central_dim['center_dim'])"
   ]
  },
  {
   "cell_type": "code",
   "execution_count": 93,
   "metadata": {},
   "outputs": [
    {
     "data": {
      "image/png": "[encoded data removed]",
      "text/plain": [
       "<Figure size 1000x600 with 1 Axes>"
      ]
     },
     "metadata": {},
     "output_type": "display_data"
    }
   ],
   "source": [
    "make_population_plot(test1, 'humans', col_test,'pop', f\"show IDs\", palette = 'rocket')"
   ]
  },
  {
   "cell_type": "code",
   "execution_count": 94,
   "metadata": {},
   "outputs": [
    {
     "data": {
      "image/png": "[encoded data removed]",
      "text/plain": [
       "<Figure size 1000x600 with 1 Axes>"
      ]
     },
     "metadata": {},
     "output_type": "display_data"
    }
   ],
   "source": [
    "make_population_plot(test2, 'humans', col_test,'pop', f\"show IDs\", palette = 'rocket')\n"
   ]
  },
  {
   "cell_type": "code",
   "execution_count": 95,
   "metadata": {},
   "outputs": [],
   "source": [
    "# Iteration 2"
   ]
  },
  {
   "cell_type": "code",
   "execution_count": null,
   "metadata": {},
   "outputs": [],
   "source": [
    "path_data = f\"{CONFIG['PATH_data']}/\"\n",
    "nr_it = 1\n",
    "iteration = [f for f in os.listdir(path_data) if f.startswith(f\"iteration_{nr_it}\")][0]\n",
    "path_iteration = f\"{path_data}/{iteration}/\"\n",
    "ids = pd.read_pickle(f\"{path_iteration}/ids.pkl\")\n",
    "dims_dfs = []\n",
    "for pop in [f for f in os.listdir(path_iteration) if f.startswith('pop')]:\n",
    "    pop = pop.split('pop_')[1]\n",
    "    temp_ids = ids[ids[f\"cluster_{iteration.split('_')[1]}\"] == pop]\n",
    "    path_pop = f\"{path_iteration}/pop_{pop}/\"\n",
    "    dims = [f for f in os.listdir(path_pop) if f.startswith('PCs')]\n",
    "    \n",
    "    nr_PCs = 3\n",
    "    PCs_labels = []\n",
    "    for i in range(nr_PCs):\n",
    "        PCs_labels.append(f\"PC{i+1}\")\n",
    "\n",
    "    dims_df = pd.DataFrame()\n",
    "    for dim  in dims:\n",
    "        path_dim = f\"{path_pop}/{dim}\"\n",
    "        dim = dim.split('PCs_')[1].split('.pkl')[0]\n",
    "        \n",
    "        PCs = pd.read_pickle(path_dim)\n",
    "        for label in PCs_labels:\n",
    "            PCs.rename(columns={f\"{label}\": f\"pop_{pop}_{label}_dim_{dim}\"}, inplace=True)\n",
    "            dims_df[f\"pop_{pop}_{label}_dim_{dim}\"] = list(PCs[f\"pop_{pop}_{label}_dim_{dim}\"])\n",
    "    dims_df.index = temp_ids.index\n",
    "    dims_dfs.append(dims_df)\n",
    "        \n",
    "\n",
    "# Concatenate DataFrames, filling missing columns with NaN\n",
    "dims_dfs = pd.concat(dims_dfs, ignore_index=False, sort=True)\n",
    "dims_dfs = dims_dfs.fillna(0)"
   ]
  },
  {
   "cell_type": "code",
   "execution_count": null,
   "metadata": {},
   "outputs": [
    {
     "data": {
      "text/html": [
       "<div>\n",
       "<style scoped>\n",
       "    .dataframe tbody tr th:only-of-type {\n",
       "        vertical-align: middle;\n",
       "    }\n",
       "\n",
       "    .dataframe tbody tr th {\n",
       "        vertical-align: top;\n",
       "    }\n",
       "\n",
       "    .dataframe thead th {\n",
       "        text-align: right;\n",
       "    }\n",
       "</style>\n",
       "<table border=\"1\" class=\"dataframe\">\n",
       "  <thead>\n",
       "    <tr style=\"text-align: right;\">\n",
       "      <th></th>\n",
       "      <th>pop_0_0_PC1_dim_dim_1</th>\n",
       "      <th>pop_0_0_PC1_dim_dim_2</th>\n",
       "      <th>pop_0_0_PC1_dim_dim_3</th>\n",
       "      <th>pop_0_0_PC2_dim_dim_1</th>\n",
       "      <th>pop_0_0_PC2_dim_dim_2</th>\n",
       "      <th>pop_0_0_PC2_dim_dim_3</th>\n",
       "      <th>pop_0_0_PC3_dim_dim_1</th>\n",
       "      <th>pop_0_0_PC3_dim_dim_2</th>\n",
       "      <th>pop_0_0_PC3_dim_dim_3</th>\n",
       "      <th>pop_0_1_PC1_dim_dim_1</th>\n",
       "      <th>...</th>\n",
       "      <th>pop_0_3_PC3_dim_dim_3</th>\n",
       "      <th>pop_0_4_PC1_dim_dim_1</th>\n",
       "      <th>pop_0_4_PC1_dim_dim_2</th>\n",
       "      <th>pop_0_4_PC1_dim_dim_3</th>\n",
       "      <th>pop_0_4_PC2_dim_dim_1</th>\n",
       "      <th>pop_0_4_PC2_dim_dim_2</th>\n",
       "      <th>pop_0_4_PC2_dim_dim_3</th>\n",
       "      <th>pop_0_4_PC3_dim_dim_1</th>\n",
       "      <th>pop_0_4_PC3_dim_dim_2</th>\n",
       "      <th>pop_0_4_PC3_dim_dim_3</th>\n",
       "    </tr>\n",
       "  </thead>\n",
       "  <tbody>\n",
       "    <tr>\n",
       "      <th>0</th>\n",
       "      <td>0.933013</td>\n",
       "      <td>-4.068720</td>\n",
       "      <td>10.336285</td>\n",
       "      <td>-3.492381</td>\n",
       "      <td>9.887428</td>\n",
       "      <td>-2.532068</td>\n",
       "      <td>9.639750</td>\n",
       "      <td>2.783962</td>\n",
       "      <td>7.823999</td>\n",
       "      <td>0.000000</td>\n",
       "      <td>...</td>\n",
       "      <td>0.0</td>\n",
       "      <td>0.0</td>\n",
       "      <td>0.0</td>\n",
       "      <td>0.0</td>\n",
       "      <td>0.0</td>\n",
       "      <td>0.0</td>\n",
       "      <td>0.0</td>\n",
       "      <td>0.0</td>\n",
       "      <td>0.0</td>\n",
       "      <td>0.0</td>\n",
       "    </tr>\n",
       "    <tr>\n",
       "      <th>1</th>\n",
       "      <td>6.188379</td>\n",
       "      <td>-4.959371</td>\n",
       "      <td>16.235042</td>\n",
       "      <td>-2.123308</td>\n",
       "      <td>21.497266</td>\n",
       "      <td>3.080950</td>\n",
       "      <td>20.465567</td>\n",
       "      <td>0.438365</td>\n",
       "      <td>-1.994241</td>\n",
       "      <td>0.000000</td>\n",
       "      <td>...</td>\n",
       "      <td>0.0</td>\n",
       "      <td>0.0</td>\n",
       "      <td>0.0</td>\n",
       "      <td>0.0</td>\n",
       "      <td>0.0</td>\n",
       "      <td>0.0</td>\n",
       "      <td>0.0</td>\n",
       "      <td>0.0</td>\n",
       "      <td>0.0</td>\n",
       "      <td>0.0</td>\n",
       "    </tr>\n",
       "    <tr>\n",
       "      <th>2</th>\n",
       "      <td>0.393187</td>\n",
       "      <td>-6.371439</td>\n",
       "      <td>-3.397163</td>\n",
       "      <td>-6.866763</td>\n",
       "      <td>-3.048944</td>\n",
       "      <td>6.415818</td>\n",
       "      <td>1.044204</td>\n",
       "      <td>2.575572</td>\n",
       "      <td>-2.637278</td>\n",
       "      <td>0.000000</td>\n",
       "      <td>...</td>\n",
       "      <td>0.0</td>\n",
       "      <td>0.0</td>\n",
       "      <td>0.0</td>\n",
       "      <td>0.0</td>\n",
       "      <td>0.0</td>\n",
       "      <td>0.0</td>\n",
       "      <td>0.0</td>\n",
       "      <td>0.0</td>\n",
       "      <td>0.0</td>\n",
       "      <td>0.0</td>\n",
       "    </tr>\n",
       "    <tr>\n",
       "      <th>3</th>\n",
       "      <td>0.743959</td>\n",
       "      <td>-6.591337</td>\n",
       "      <td>7.333168</td>\n",
       "      <td>-6.852792</td>\n",
       "      <td>8.612897</td>\n",
       "      <td>-1.655533</td>\n",
       "      <td>8.877612</td>\n",
       "      <td>-0.498862</td>\n",
       "      <td>-0.818207</td>\n",
       "      <td>0.000000</td>\n",
       "      <td>...</td>\n",
       "      <td>0.0</td>\n",
       "      <td>0.0</td>\n",
       "      <td>0.0</td>\n",
       "      <td>0.0</td>\n",
       "      <td>0.0</td>\n",
       "      <td>0.0</td>\n",
       "      <td>0.0</td>\n",
       "      <td>0.0</td>\n",
       "      <td>0.0</td>\n",
       "      <td>0.0</td>\n",
       "    </tr>\n",
       "    <tr>\n",
       "      <th>4</th>\n",
       "      <td>0.883044</td>\n",
       "      <td>-5.209089</td>\n",
       "      <td>2.450627</td>\n",
       "      <td>-4.378275</td>\n",
       "      <td>1.098689</td>\n",
       "      <td>2.820204</td>\n",
       "      <td>-2.990109</td>\n",
       "      <td>-2.853764</td>\n",
       "      <td>-3.851209</td>\n",
       "      <td>0.000000</td>\n",
       "      <td>...</td>\n",
       "      <td>0.0</td>\n",
       "      <td>0.0</td>\n",
       "      <td>0.0</td>\n",
       "      <td>0.0</td>\n",
       "      <td>0.0</td>\n",
       "      <td>0.0</td>\n",
       "      <td>0.0</td>\n",
       "      <td>0.0</td>\n",
       "      <td>0.0</td>\n",
       "      <td>0.0</td>\n",
       "    </tr>\n",
       "    <tr>\n",
       "      <th>...</th>\n",
       "      <td>...</td>\n",
       "      <td>...</td>\n",
       "      <td>...</td>\n",
       "      <td>...</td>\n",
       "      <td>...</td>\n",
       "      <td>...</td>\n",
       "      <td>...</td>\n",
       "      <td>...</td>\n",
       "      <td>...</td>\n",
       "      <td>...</td>\n",
       "      <td>...</td>\n",
       "      <td>...</td>\n",
       "      <td>...</td>\n",
       "      <td>...</td>\n",
       "      <td>...</td>\n",
       "      <td>...</td>\n",
       "      <td>...</td>\n",
       "      <td>...</td>\n",
       "      <td>...</td>\n",
       "      <td>...</td>\n",
       "      <td>...</td>\n",
       "    </tr>\n",
       "    <tr>\n",
       "      <th>2499</th>\n",
       "      <td>0.000000</td>\n",
       "      <td>0.000000</td>\n",
       "      <td>0.000000</td>\n",
       "      <td>0.000000</td>\n",
       "      <td>0.000000</td>\n",
       "      <td>0.000000</td>\n",
       "      <td>0.000000</td>\n",
       "      <td>0.000000</td>\n",
       "      <td>0.000000</td>\n",
       "      <td>20.935759</td>\n",
       "      <td>...</td>\n",
       "      <td>0.0</td>\n",
       "      <td>0.0</td>\n",
       "      <td>0.0</td>\n",
       "      <td>0.0</td>\n",
       "      <td>0.0</td>\n",
       "      <td>0.0</td>\n",
       "      <td>0.0</td>\n",
       "      <td>0.0</td>\n",
       "      <td>0.0</td>\n",
       "      <td>0.0</td>\n",
       "    </tr>\n",
       "    <tr>\n",
       "      <th>2500</th>\n",
       "      <td>0.000000</td>\n",
       "      <td>0.000000</td>\n",
       "      <td>0.000000</td>\n",
       "      <td>0.000000</td>\n",
       "      <td>0.000000</td>\n",
       "      <td>0.000000</td>\n",
       "      <td>0.000000</td>\n",
       "      <td>0.000000</td>\n",
       "      <td>0.000000</td>\n",
       "      <td>23.250069</td>\n",
       "      <td>...</td>\n",
       "      <td>0.0</td>\n",
       "      <td>0.0</td>\n",
       "      <td>0.0</td>\n",
       "      <td>0.0</td>\n",
       "      <td>0.0</td>\n",
       "      <td>0.0</td>\n",
       "      <td>0.0</td>\n",
       "      <td>0.0</td>\n",
       "      <td>0.0</td>\n",
       "      <td>0.0</td>\n",
       "    </tr>\n",
       "    <tr>\n",
       "      <th>2501</th>\n",
       "      <td>0.000000</td>\n",
       "      <td>0.000000</td>\n",
       "      <td>0.000000</td>\n",
       "      <td>0.000000</td>\n",
       "      <td>0.000000</td>\n",
       "      <td>0.000000</td>\n",
       "      <td>0.000000</td>\n",
       "      <td>0.000000</td>\n",
       "      <td>0.000000</td>\n",
       "      <td>21.184803</td>\n",
       "      <td>...</td>\n",
       "      <td>0.0</td>\n",
       "      <td>0.0</td>\n",
       "      <td>0.0</td>\n",
       "      <td>0.0</td>\n",
       "      <td>0.0</td>\n",
       "      <td>0.0</td>\n",
       "      <td>0.0</td>\n",
       "      <td>0.0</td>\n",
       "      <td>0.0</td>\n",
       "      <td>0.0</td>\n",
       "    </tr>\n",
       "    <tr>\n",
       "      <th>2502</th>\n",
       "      <td>0.000000</td>\n",
       "      <td>0.000000</td>\n",
       "      <td>0.000000</td>\n",
       "      <td>0.000000</td>\n",
       "      <td>0.000000</td>\n",
       "      <td>0.000000</td>\n",
       "      <td>0.000000</td>\n",
       "      <td>0.000000</td>\n",
       "      <td>0.000000</td>\n",
       "      <td>19.753146</td>\n",
       "      <td>...</td>\n",
       "      <td>0.0</td>\n",
       "      <td>0.0</td>\n",
       "      <td>0.0</td>\n",
       "      <td>0.0</td>\n",
       "      <td>0.0</td>\n",
       "      <td>0.0</td>\n",
       "      <td>0.0</td>\n",
       "      <td>0.0</td>\n",
       "      <td>0.0</td>\n",
       "      <td>0.0</td>\n",
       "    </tr>\n",
       "    <tr>\n",
       "      <th>2503</th>\n",
       "      <td>0.000000</td>\n",
       "      <td>0.000000</td>\n",
       "      <td>0.000000</td>\n",
       "      <td>0.000000</td>\n",
       "      <td>0.000000</td>\n",
       "      <td>0.000000</td>\n",
       "      <td>0.000000</td>\n",
       "      <td>0.000000</td>\n",
       "      <td>0.000000</td>\n",
       "      <td>25.126937</td>\n",
       "      <td>...</td>\n",
       "      <td>0.0</td>\n",
       "      <td>0.0</td>\n",
       "      <td>0.0</td>\n",
       "      <td>0.0</td>\n",
       "      <td>0.0</td>\n",
       "      <td>0.0</td>\n",
       "      <td>0.0</td>\n",
       "      <td>0.0</td>\n",
       "      <td>0.0</td>\n",
       "      <td>0.0</td>\n",
       "    </tr>\n",
       "  </tbody>\n",
       "</table>\n",
       "<p>2504 rows × 45 columns</p>\n",
       "</div>"
      ],
      "text/plain": [
       "      pop_0_0_PC1_dim_dim_1  pop_0_0_PC1_dim_dim_2  pop_0_0_PC1_dim_dim_3  \\\n",
       "0                  0.933013              -4.068720              10.336285   \n",
       "1                  6.188379              -4.959371              16.235042   \n",
       "2                  0.393187              -6.371439              -3.397163   \n",
       "3                  0.743959              -6.591337               7.333168   \n",
       "4                  0.883044              -5.209089               2.450627   \n",
       "...                     ...                    ...                    ...   \n",
       "2499               0.000000               0.000000               0.000000   \n",
       "2500               0.000000               0.000000               0.000000   \n",
       "2501               0.000000               0.000000               0.000000   \n",
       "2502               0.000000               0.000000               0.000000   \n",
       "2503               0.000000               0.000000               0.000000   \n",
       "\n",
       "      pop_0_0_PC2_dim_dim_1  pop_0_0_PC2_dim_dim_2  pop_0_0_PC2_dim_dim_3  \\\n",
       "0                 -3.492381               9.887428              -2.532068   \n",
       "1                 -2.123308              21.497266               3.080950   \n",
       "2                 -6.866763              -3.048944               6.415818   \n",
       "3                 -6.852792               8.612897              -1.655533   \n",
       "4                 -4.378275               1.098689               2.820204   \n",
       "...                     ...                    ...                    ...   \n",
       "2499               0.000000               0.000000               0.000000   \n",
       "2500               0.000000               0.000000               0.000000   \n",
       "2501               0.000000               0.000000               0.000000   \n",
       "2502               0.000000               0.000000               0.000000   \n",
       "2503               0.000000               0.000000               0.000000   \n",
       "\n",
       "      pop_0_0_PC3_dim_dim_1  pop_0_0_PC3_dim_dim_2  pop_0_0_PC3_dim_dim_3  \\\n",
       "0                  9.639750               2.783962               7.823999   \n",
       "1                 20.465567               0.438365              -1.994241   \n",
       "2                  1.044204               2.575572              -2.637278   \n",
       "3                  8.877612              -0.498862              -0.818207   \n",
       "4                 -2.990109              -2.853764              -3.851209   \n",
       "...                     ...                    ...                    ...   \n",
       "2499               0.000000               0.000000               0.000000   \n",
       "2500               0.000000               0.000000               0.000000   \n",
       "2501               0.000000               0.000000               0.000000   \n",
       "2502               0.000000               0.000000               0.000000   \n",
       "2503               0.000000               0.000000               0.000000   \n",
       "\n",
       "      pop_0_1_PC1_dim_dim_1  ...  pop_0_3_PC3_dim_dim_3  \\\n",
       "0                  0.000000  ...                    0.0   \n",
       "1                  0.000000  ...                    0.0   \n",
       "2                  0.000000  ...                    0.0   \n",
       "3                  0.000000  ...                    0.0   \n",
       "4                  0.000000  ...                    0.0   \n",
       "...                     ...  ...                    ...   \n",
       "2499              20.935759  ...                    0.0   \n",
       "2500              23.250069  ...                    0.0   \n",
       "2501              21.184803  ...                    0.0   \n",
       "2502              19.753146  ...                    0.0   \n",
       "2503              25.126937  ...                    0.0   \n",
       "\n",
       "      pop_0_4_PC1_dim_dim_1  pop_0_4_PC1_dim_dim_2  pop_0_4_PC1_dim_dim_3  \\\n",
       "0                       0.0                    0.0                    0.0   \n",
       "1                       0.0                    0.0                    0.0   \n",
       "2                       0.0                    0.0                    0.0   \n",
       "3                       0.0                    0.0                    0.0   \n",
       "4                       0.0                    0.0                    0.0   \n",
       "...                     ...                    ...                    ...   \n",
       "2499                    0.0                    0.0                    0.0   \n",
       "2500                    0.0                    0.0                    0.0   \n",
       "2501                    0.0                    0.0                    0.0   \n",
       "2502                    0.0                    0.0                    0.0   \n",
       "2503                    0.0                    0.0                    0.0   \n",
       "\n",
       "      pop_0_4_PC2_dim_dim_1  pop_0_4_PC2_dim_dim_2  pop_0_4_PC2_dim_dim_3  \\\n",
       "0                       0.0                    0.0                    0.0   \n",
       "1                       0.0                    0.0                    0.0   \n",
       "2                       0.0                    0.0                    0.0   \n",
       "3                       0.0                    0.0                    0.0   \n",
       "4                       0.0                    0.0                    0.0   \n",
       "...                     ...                    ...                    ...   \n",
       "2499                    0.0                    0.0                    0.0   \n",
       "2500                    0.0                    0.0                    0.0   \n",
       "2501                    0.0                    0.0                    0.0   \n",
       "2502                    0.0                    0.0                    0.0   \n",
       "2503                    0.0                    0.0                    0.0   \n",
       "\n",
       "      pop_0_4_PC3_dim_dim_1  pop_0_4_PC3_dim_dim_2  pop_0_4_PC3_dim_dim_3  \n",
       "0                       0.0                    0.0                    0.0  \n",
       "1                       0.0                    0.0                    0.0  \n",
       "2                       0.0                    0.0                    0.0  \n",
       "3                       0.0                    0.0                    0.0  \n",
       "4                       0.0                    0.0                    0.0  \n",
       "...                     ...                    ...                    ...  \n",
       "2499                    0.0                    0.0                    0.0  \n",
       "2500                    0.0                    0.0                    0.0  \n",
       "2501                    0.0                    0.0                    0.0  \n",
       "2502                    0.0                    0.0                    0.0  \n",
       "2503                    0.0                    0.0                    0.0  \n",
       "\n",
       "[2504 rows x 45 columns]"
      ]
     },
     "execution_count": 99,
     "metadata": {},
     "output_type": "execute_result"
    }
   ],
   "source": [
    "\n",
    "dims_dfs"
   ]
  },
  {
   "cell_type": "code",
   "execution_count": null,
   "metadata": {},
   "outputs": [],
   "source": []
  },
  {
   "cell_type": "code",
   "execution_count": null,
   "metadata": {},
   "outputs": [],
   "source": []
  },
  {
   "cell_type": "code",
   "execution_count": null,
   "metadata": {},
   "outputs": [],
   "source": []
  },
  {
   "cell_type": "code",
   "execution_count": null,
   "metadata": {},
   "outputs": [],
   "source": []
  },
  {
   "cell_type": "code",
   "execution_count": null,
   "metadata": {},
   "outputs": [],
   "source": []
  },
  {
   "cell_type": "code",
   "execution_count": null,
   "metadata": {},
   "outputs": [],
   "source": []
  },
  {
   "cell_type": "code",
   "execution_count": null,
   "metadata": {},
   "outputs": [],
   "source": []
  }
 ],
 "metadata": {
  "kernelspec": {
   "display_name": "pca_projection",
   "language": "python",
   "name": "python3"
  },
  "language_info": {
   "codemirror_mode": {
    "name": "ipython",
    "version": 3
   },
   "file_extension": ".py",
   "mimetype": "text/x-python",
   "name": "python",
   "nbconvert_exporter": "python",
   "pygments_lexer": "ipython3",
   "version": "3.8.12"
  }
 },
 "nbformat": 4,
 "nbformat_minor": 2
}
